{
  "nbformat": 4,
  "nbformat_minor": 0,
  "metadata": {
    "colab": {
      "name": "labAssignment1111.ipynb",
      "provenance": [],
      "collapsed_sections": [],
      "include_colab_link": true
    },
    "kernelspec": {
      "name": "python3",
      "display_name": "Python 3"
    },
    "language_info": {
      "name": "python"
    },
    "accelerator": "GPU"
  },
  "cells": [
    {
      "cell_type": "markdown",
      "metadata": {
        "id": "view-in-github",
        "colab_type": "text"
      },
      "source": [
        "<a href=\"https://colab.research.google.com/github/savagenashe/gdsc/blob/main/labAssignment1111.ipynb\" target=\"_parent\"><img src=\"https://colab.research.google.com/assets/colab-badge.svg\" alt=\"Open In Colab\"/></a>"
      ]
    },
    {
      "cell_type": "markdown",
      "source": [
        "**PANASHE TARUWINGA**\n",
        "\n",
        "\n",
        "\n",
        "*   09922023\n",
        "*   MACHINE LEARNING LAB 1\n",
        "\n"
      ],
      "metadata": {
        "id": "C5VMkJLL7ZCj"
      }
    },
    {
      "cell_type": "code",
      "execution_count": null,
      "metadata": {
        "colab": {
          "base_uri": "https://localhost:8080/"
        },
        "id": "l6dN6Qa_J8QR",
        "outputId": "d5b4d560-970a-40a1-85b8-f615b30b7ad8"
      },
      "outputs": [
        {
          "output_type": "stream",
          "name": "stdout",
          "text": [
            "\u001b[K     |████████████████████████████████| 720 kB 8.0 MB/s \n",
            "\u001b[K     |████████████████████████████████| 189 kB 44.8 MB/s \n",
            "\u001b[K     |████████████████████████████████| 1.2 MB 50.7 MB/s \n",
            "\u001b[K     |████████████████████████████████| 46 kB 5.8 MB/s \n",
            "\u001b[K     |████████████████████████████████| 56 kB 6.9 MB/s \n",
            "\u001b[K     |████████████████████████████████| 51 kB 459 kB/s \n",
            "\u001b[?25hMounted at /content/gdrive\n"
          ]
        }
      ],
      "source": [
        "#hide\n",
        "!pip install -Uqq fastbook\n",
        "import fastbook\n",
        "fastbook.setup_book()"
      ]
    },
    {
      "cell_type": "code",
      "source": [
        "#hide\n",
        "from fastai.vision.all import *\n",
        "from fastbook import *\n",
        "#from sklearn.model_selection import train_test_split\n",
        "\n",
        "matplotlib.rc('image', cmap='Greys')"
      ],
      "metadata": {
        "id": "9LZseBW1KRiP"
      },
      "execution_count": null,
      "outputs": []
    },
    {
      "cell_type": "markdown",
      "source": [
        "\n",
        "**Downloading the dataset**\n",
        "\n"
      ],
      "metadata": {
        "id": "UuNnz8RfKiQ7"
      }
    },
    {
      "cell_type": "code",
      "source": [
        "path = untar_data(URLs.MNIST)"
      ],
      "metadata": {
        "colab": {
          "base_uri": "https://localhost:8080/",
          "height": 37
        },
        "id": "wFErS6L5Kqj4",
        "outputId": "cb592a11-ba14-434a-fea4-0f552bc9183a"
      },
      "execution_count": null,
      "outputs": [
        {
          "output_type": "display_data",
          "data": {
            "text/html": [
              "\n",
              "    <div>\n",
              "        <style>\n",
              "            /* Turns off some styling */\n",
              "            progress {\n",
              "                /* gets rid of default border in Firefox and Opera. */\n",
              "                border: none;\n",
              "                /* Needs to be in here for Safari polyfill so background images work as expected. */\n",
              "                background-size: auto;\n",
              "            }\n",
              "            .progress-bar-interrupted, .progress-bar-interrupted::-webkit-progress-bar {\n",
              "                background: #F44336;\n",
              "            }\n",
              "        </style>\n",
              "      <progress value='15687680' class='' max='15683414' style='width:300px; height:20px; vertical-align: middle;'></progress>\n",
              "      100.03% [15687680/15683414 00:00<00:00]\n",
              "    </div>\n",
              "    "
            ],
            "text/plain": [
              "<IPython.core.display.HTML object>"
            ]
          },
          "metadata": {}
        }
      ]
    },
    {
      "cell_type": "code",
      "source": [
        "#hide\n",
        "Path.BASE_PATH = path"
      ],
      "metadata": {
        "id": "qmbXjkhSK0OA"
      },
      "execution_count": null,
      "outputs": []
    },
    {
      "cell_type": "markdown",
      "source": [
        "**Listing all the files in the dataset**"
      ],
      "metadata": {
        "id": "atuD83cwLB4G"
      }
    },
    {
      "cell_type": "code",
      "source": [
        "path.ls()"
      ],
      "metadata": {
        "colab": {
          "base_uri": "https://localhost:8080/"
        },
        "id": "1UiVNHEhLH70",
        "outputId": "fcbdda97-1084-42f7-8ffa-1535e5ccd778"
      },
      "execution_count": null,
      "outputs": [
        {
          "output_type": "execute_result",
          "data": {
            "text/plain": [
              "(#2) [Path('testing'),Path('training')]"
            ]
          },
          "metadata": {},
          "execution_count": 5
        }
      ]
    },
    {
      "cell_type": "code",
      "source": [
        "(path/'training').ls()"
      ],
      "metadata": {
        "colab": {
          "base_uri": "https://localhost:8080/"
        },
        "id": "n__kyVk-LOeY",
        "outputId": "c118b9e5-b744-404a-86e0-6a3d12a3e5c5"
      },
      "execution_count": null,
      "outputs": [
        {
          "output_type": "execute_result",
          "data": {
            "text/plain": [
              "(#10) [Path('training/5'),Path('training/7'),Path('training/3'),Path('training/0'),Path('training/8'),Path('training/4'),Path('training/6'),Path('training/2'),Path('training/9'),Path('training/1')]"
            ]
          },
          "metadata": {},
          "execution_count": 6
        }
      ]
    },
    {
      "cell_type": "markdown",
      "source": [
        "Splitting the training set into training set and validation set using an 80-20 ratio"
      ],
      "metadata": {
        "id": "nOcm5_670rTH"
      }
    },
    {
      "cell_type": "code",
      "source": [
        "ones_train = (path/'training'/'1').ls()\n",
        "split_1 = int(len(ones_train)*0.8)\n",
        "ones = ones_train[:split_1]\n",
        "ones_valid = ones_train[split_1:]\n",
        "\n",
        "threes_train = (path/'training'/'3').ls()\n",
        "split_3 = int(len(threes_train)*0.8)\n",
        "threes = threes_train[:split_3]\n",
        "threes_valid = threes_train[split_3:]\n",
        "\n",
        "eights_train = (path/'training'/'8').ls()\n",
        "split_8 = int(len(eights_train)*0.8)\n",
        "eights = eights_train[:split_8]\n",
        "eights_valid = eights_train[split_8:]\n",
        "\n",
        "sevens_train = (path/'training'/'7').ls()\n",
        "split_7 = int(len(sevens_train)*0.8)\n",
        "sevens = sevens_train[:split_7]\n",
        "sevens_valid = sevens_train[split_7:]\n",
        "\n",
        "#len(ones_valid),len(ones),len(threes_valid),len(threes),len(eights_valid),len(eights),len(sevens_valid),len(sevens)"
      ],
      "metadata": {
        "id": "8KRLuyvT06Ki"
      },
      "execution_count": null,
      "outputs": []
    },
    {
      "cell_type": "markdown",
      "source": [
        "number of images in each set"
      ],
      "metadata": {
        "id": "SLFZqq7fmQnX"
      }
    },
    {
      "cell_type": "code",
      "source": [
        "# training\n",
        "len(ones),len(threes),len(sevens),len(eights)"
      ],
      "metadata": {
        "colab": {
          "base_uri": "https://localhost:8080/"
        },
        "id": "Lhki1c-BmQPY",
        "outputId": "208a208e-8b57-40db-9d06-7b1a57308d42"
      },
      "execution_count": null,
      "outputs": [
        {
          "output_type": "execute_result",
          "data": {
            "text/plain": [
              "(5393, 4904, 5012, 4680)"
            ]
          },
          "metadata": {},
          "execution_count": 8
        }
      ]
    },
    {
      "cell_type": "code",
      "source": [
        "#validation set\n",
        "len(ones_valid),len(threes_valid),len(sevens_valid),len(eights_valid)"
      ],
      "metadata": {
        "colab": {
          "base_uri": "https://localhost:8080/"
        },
        "id": "iSx4Q6REmZQK",
        "outputId": "140605e5-048d-4904-fe5e-920e63cfe6f5"
      },
      "execution_count": null,
      "outputs": [
        {
          "output_type": "execute_result",
          "data": {
            "text/plain": [
              "(1349, 1227, 1253, 1171)"
            ]
          },
          "metadata": {},
          "execution_count": 9
        }
      ]
    },
    {
      "cell_type": "code",
      "source": [
        "#testing\n",
        "ones_test = (path/'testing'/'1').ls()\n",
        "threes_test = (path/'testing'/'3').ls()\n",
        "eights_test = (path/'testing'/'8').ls()\n",
        "sevens_test = (path/'testing'/'7').ls()\n",
        "\n",
        "len(ones_test),len(threes_test),len(sevens_test),len(eights_test)\n"
      ],
      "metadata": {
        "colab": {
          "base_uri": "https://localhost:8080/"
        },
        "id": "StrWOPPomcp_",
        "outputId": "2b0c95ed-28b1-482e-e7bb-28a2a664937e"
      },
      "execution_count": null,
      "outputs": [
        {
          "output_type": "execute_result",
          "data": {
            "text/plain": [
              "(1135, 1010, 1028, 974)"
            ]
          },
          "metadata": {},
          "execution_count": 10
        }
      ]
    },
    {
      "cell_type": "markdown",
      "source": [
        "Taking a look at the 3,1,8 and 7s only"
      ],
      "metadata": {
        "id": "Bfzy-P6NN2ew"
      }
    },
    {
      "cell_type": "code",
      "source": [
        "threes = (path/'training/3').ls().sorted()\n",
        "eights = (path/'training/8').ls().sorted()\n",
        "ones = (path/'training/1').ls().sorted()\n",
        "sevens = (path/'training/7').ls().sorted()\n",
        "threes"
      ],
      "metadata": {
        "colab": {
          "base_uri": "https://localhost:8080/"
        },
        "id": "Pz1zalTzNf6A",
        "outputId": "4ed10fae-faee-4614-9b61-95c2dffe3c6a"
      },
      "execution_count": null,
      "outputs": [
        {
          "output_type": "execute_result",
          "data": {
            "text/plain": [
              "(#6131) [Path('training/3/10.png'),Path('training/3/10000.png'),Path('training/3/10011.png'),Path('training/3/10031.png'),Path('training/3/10034.png'),Path('training/3/10042.png'),Path('training/3/10052.png'),Path('training/3/1007.png'),Path('training/3/10074.png'),Path('training/3/10091.png')...]"
            ]
          },
          "metadata": {},
          "execution_count": 11
        }
      ]
    },
    {
      "cell_type": "markdown",
      "source": [
        "Taking a look at one image"
      ],
      "metadata": {
        "id": "GTx4r1nIPOHK"
      }
    },
    {
      "cell_type": "code",
      "source": [
        "im8_path = eights[1]\n",
        "im8 = Image.open(im8_path)\n",
        "im8"
      ],
      "metadata": {
        "colab": {
          "base_uri": "https://localhost:8080/",
          "height": 45
        },
        "id": "DIJLzajwPK-8",
        "outputId": "1d121497-cf1b-4b6e-9c5a-18cfaae5758b"
      },
      "execution_count": null,
      "outputs": [
        {
          "output_type": "execute_result",
          "data": {
            "image/png": "[encoded data removed]",
            "text/plain": [
              "<PIL.PngImagePlugin.PngImageFile image mode=L size=28x28 at 0x7F8B23A0F590>"
            ]
          },
          "metadata": {},
          "execution_count": 12
        }
      ]
    },
    {
      "cell_type": "markdown",
      "source": [
        "displaying the numpy array of the above image"
      ],
      "metadata": {
        "id": "1u8YuZvVPpwB"
      }
    },
    {
      "cell_type": "code",
      "source": [
        "array(im8)[4:10,4:10]"
      ],
      "metadata": {
        "colab": {
          "base_uri": "https://localhost:8080/"
        },
        "id": "5N8LNefBPv8Y",
        "outputId": "b9b8623b-3d1b-42fd-93f1-371fa38b70ab"
      },
      "execution_count": null,
      "outputs": [
        {
          "output_type": "execute_result",
          "data": {
            "text/plain": [
              "array([[  0,   0,   0,   0,   0,   0],\n",
              "       [  0,  58, 125, 245, 187, 254],\n",
              "       [  0, 118, 253, 253, 253, 253],\n",
              "       [  0, 242, 253, 253, 253, 253],\n",
              "       [  0, 194, 253, 253, 253, 253],\n",
              "       [  0,  73, 198, 253, 253, 253]], dtype=uint8)"
            ]
          },
          "metadata": {},
          "execution_count": 13
        }
      ]
    },
    {
      "cell_type": "code",
      "source": [
        "tensor(im8)[4:10,4:10]"
      ],
      "metadata": {
        "colab": {
          "base_uri": "https://localhost:8080/"
        },
        "id": "4G_tyYrSQDHx",
        "outputId": "42541a22-9826-4ff2-ecab-871a05796f6c"
      },
      "execution_count": null,
      "outputs": [
        {
          "output_type": "execute_result",
          "data": {
            "text/plain": [
              "tensor([[  0,   0,   0,   0,   0,   0],\n",
              "        [  0,  58, 125, 245, 187, 254],\n",
              "        [  0, 118, 253, 253, 253, 253],\n",
              "        [  0, 242, 253, 253, 253, 253],\n",
              "        [  0, 194, 253, 253, 253, 253],\n",
              "        [  0,  73, 198, 253, 253, 253]], dtype=torch.uint8)"
            ]
          },
          "metadata": {},
          "execution_count": 14
        }
      ]
    },
    {
      "cell_type": "markdown",
      "source": [
        "showing the pixel values of the image using Pandas DataFrame"
      ],
      "metadata": {
        "id": "HlRzMJtmQPCU"
      }
    },
    {
      "cell_type": "code",
      "source": [
        "im8_t = tensor(im8)\n",
        "df = pd.DataFrame(im8_t[4:15,4:22])\n",
        "df.style.set_properties(**{'font-size':'6pt'}).background_gradient('Greys')\n"
      ],
      "metadata": {
        "colab": {
          "base_uri": "https://localhost:8080/",
          "height": 394
        },
        "id": "j24dE64PQVPr",
        "outputId": "d28359a7-7d9f-4917-db7b-82d645365b71"
      },
      "execution_count": null,
      "outputs": [
        {
          "output_type": "execute_result",
          "data": {
            "text/html": [
              "<style type=\"text/css\">\n",
              "#T_a3cfc_row0_col0, #T_a3cfc_row0_col1, #T_a3cfc_row0_col2, #T_a3cfc_row0_col3, #T_a3cfc_row0_col4, #T_a3cfc_row0_col5, #T_a3cfc_row0_col6, #T_a3cfc_row0_col7, #T_a3cfc_row0_col8, #T_a3cfc_row0_col9, #T_a3cfc_row0_col10, #T_a3cfc_row0_col11, #T_a3cfc_row0_col12, #T_a3cfc_row0_col13, #T_a3cfc_row0_col14, #T_a3cfc_row0_col15, #T_a3cfc_row0_col16, #T_a3cfc_row0_col17, #T_a3cfc_row1_col0, #T_a3cfc_row1_col12, #T_a3cfc_row1_col13, #T_a3cfc_row1_col14, #T_a3cfc_row1_col15, #T_a3cfc_row1_col16, #T_a3cfc_row1_col17, #T_a3cfc_row2_col0, #T_a3cfc_row2_col13, #T_a3cfc_row2_col14, #T_a3cfc_row2_col15, #T_a3cfc_row2_col16, #T_a3cfc_row2_col17, #T_a3cfc_row3_col0, #T_a3cfc_row3_col14, #T_a3cfc_row3_col15, #T_a3cfc_row3_col16, #T_a3cfc_row3_col17, #T_a3cfc_row4_col0, #T_a3cfc_row5_col0, #T_a3cfc_row6_col0, #T_a3cfc_row6_col1, #T_a3cfc_row6_col17, #T_a3cfc_row7_col0, #T_a3cfc_row7_col1, #T_a3cfc_row7_col2, #T_a3cfc_row7_col3, #T_a3cfc_row7_col14, #T_a3cfc_row7_col15, #T_a3cfc_row7_col16, #T_a3cfc_row7_col17, #T_a3cfc_row8_col0, #T_a3cfc_row8_col1, #T_a3cfc_row8_col2, #T_a3cfc_row8_col3, #T_a3cfc_row8_col4, #T_a3cfc_row8_col5, #T_a3cfc_row8_col14, #T_a3cfc_row8_col15, #T_a3cfc_row8_col16, #T_a3cfc_row8_col17, #T_a3cfc_row9_col0, #T_a3cfc_row9_col1, #T_a3cfc_row9_col2, #T_a3cfc_row9_col3, #T_a3cfc_row9_col4, #T_a3cfc_row9_col16, #T_a3cfc_row9_col17, #T_a3cfc_row10_col0, #T_a3cfc_row10_col1, #T_a3cfc_row10_col2, #T_a3cfc_row10_col3, #T_a3cfc_row10_col9, #T_a3cfc_row10_col10, #T_a3cfc_row10_col17 {\n",
              "  font-size: 6pt;\n",
              "  background-color: #ffffff;\n",
              "  color: #000000;\n",
              "}\n",
              "#T_a3cfc_row1_col1 {\n",
              "  font-size: 6pt;\n",
              "  background-color: #dbdbdb;\n",
              "  color: #000000;\n",
              "}\n",
              "#T_a3cfc_row1_col2, #T_a3cfc_row1_col8 {\n",
              "  font-size: 6pt;\n",
              "  background-color: #989898;\n",
              "  color: #f1f1f1;\n",
              "}\n",
              "#T_a3cfc_row1_col3, #T_a3cfc_row9_col13 {\n",
              "  font-size: 6pt;\n",
              "  background-color: #090909;\n",
              "  color: #f1f1f1;\n",
              "}\n",
              "#T_a3cfc_row1_col4 {\n",
              "  font-size: 6pt;\n",
              "  background-color: #545454;\n",
              "  color: #f1f1f1;\n",
              "}\n",
              "#T_a3cfc_row1_col5, #T_a3cfc_row1_col6, #T_a3cfc_row2_col2, #T_a3cfc_row2_col3, #T_a3cfc_row2_col4, #T_a3cfc_row2_col7, #T_a3cfc_row2_col8, #T_a3cfc_row2_col9, #T_a3cfc_row2_col10, #T_a3cfc_row3_col1, #T_a3cfc_row3_col2, #T_a3cfc_row3_col3, #T_a3cfc_row3_col4, #T_a3cfc_row3_col7, #T_a3cfc_row3_col8, #T_a3cfc_row3_col9, #T_a3cfc_row3_col10, #T_a3cfc_row3_col11, #T_a3cfc_row4_col2, #T_a3cfc_row4_col3, #T_a3cfc_row4_col4, #T_a3cfc_row4_col11, #T_a3cfc_row4_col12, #T_a3cfc_row4_col16, #T_a3cfc_row5_col3, #T_a3cfc_row5_col4, #T_a3cfc_row5_col11, #T_a3cfc_row5_col12, #T_a3cfc_row5_col13, #T_a3cfc_row5_col14, #T_a3cfc_row5_col15, #T_a3cfc_row5_col17, #T_a3cfc_row6_col7, #T_a3cfc_row6_col10, #T_a3cfc_row6_col11, #T_a3cfc_row6_col12, #T_a3cfc_row7_col7, #T_a3cfc_row7_col8, #T_a3cfc_row7_col9, #T_a3cfc_row7_col10, #T_a3cfc_row7_col11, #T_a3cfc_row7_col12, #T_a3cfc_row8_col7, #T_a3cfc_row8_col8, #T_a3cfc_row8_col9, #T_a3cfc_row8_col10, #T_a3cfc_row8_col11, #T_a3cfc_row8_col12, #T_a3cfc_row9_col7, #T_a3cfc_row9_col12, #T_a3cfc_row10_col13, #T_a3cfc_row10_col14 {\n",
              "  font-size: 6pt;\n",
              "  background-color: #000000;\n",
              "  color: #f1f1f1;\n",
              "}\n",
              "#T_a3cfc_row1_col7 {\n",
              "  font-size: 6pt;\n",
              "  background-color: #2f2f2f;\n",
              "  color: #f1f1f1;\n",
              "}\n",
              "#T_a3cfc_row1_col9 {\n",
              "  font-size: 6pt;\n",
              "  background-color: #212121;\n",
              "  color: #f1f1f1;\n",
              "}\n",
              "#T_a3cfc_row1_col10 {\n",
              "  font-size: 6pt;\n",
              "  background-color: #757575;\n",
              "  color: #f1f1f1;\n",
              "}\n",
              "#T_a3cfc_row1_col11 {\n",
              "  font-size: 6pt;\n",
              "  background-color: #eeeeee;\n",
              "  color: #000000;\n",
              "}\n",
              "#T_a3cfc_row2_col1 {\n",
              "  font-size: 6pt;\n",
              "  background-color: #9a9a9a;\n",
              "  color: #f1f1f1;\n",
              "}\n",
              "#T_a3cfc_row2_col5, #T_a3cfc_row3_col5, #T_a3cfc_row4_col5, #T_a3cfc_row5_col5, #T_a3cfc_row6_col5 {\n",
              "  font-size: 6pt;\n",
              "  background-color: #010101;\n",
              "  color: #f1f1f1;\n",
              "}\n",
              "#T_a3cfc_row2_col6, #T_a3cfc_row3_col6, #T_a3cfc_row3_col12, #T_a3cfc_row6_col6, #T_a3cfc_row10_col6 {\n",
              "  font-size: 6pt;\n",
              "  background-color: #020202;\n",
              "  color: #f1f1f1;\n",
              "}\n",
              "#T_a3cfc_row2_col11 {\n",
              "  font-size: 6pt;\n",
              "  background-color: #050505;\n",
              "  color: #f1f1f1;\n",
              "}\n",
              "#T_a3cfc_row2_col12 {\n",
              "  font-size: 6pt;\n",
              "  background-color: #8c8c8c;\n",
              "  color: #f1f1f1;\n",
              "}\n",
              "#T_a3cfc_row3_col13 {\n",
              "  font-size: 6pt;\n",
              "  background-color: #8a8a8a;\n",
              "  color: #f1f1f1;\n",
              "}\n",
              "#T_a3cfc_row4_col1 {\n",
              "  font-size: 6pt;\n",
              "  background-color: #3f3f3f;\n",
              "  color: #f1f1f1;\n",
              "}\n",
              "#T_a3cfc_row4_col6 {\n",
              "  font-size: 6pt;\n",
              "  background-color: #aeaeae;\n",
              "  color: #000000;\n",
              "}\n",
              "#T_a3cfc_row4_col7 {\n",
              "  font-size: 6pt;\n",
              "  background-color: #f6f6f6;\n",
              "  color: #000000;\n",
              "}\n",
              "#T_a3cfc_row4_col8 {\n",
              "  font-size: 6pt;\n",
              "  background-color: #dfdfdf;\n",
              "  color: #000000;\n",
              "}\n",
              "#T_a3cfc_row4_col9 {\n",
              "  font-size: 6pt;\n",
              "  background-color: #e4e4e4;\n",
              "  color: #000000;\n",
              "}\n",
              "#T_a3cfc_row4_col10 {\n",
              "  font-size: 6pt;\n",
              "  background-color: #878787;\n",
              "  color: #f1f1f1;\n",
              "}\n",
              "#T_a3cfc_row4_col13 {\n",
              "  font-size: 6pt;\n",
              "  background-color: #030303;\n",
              "  color: #f1f1f1;\n",
              "}\n",
              "#T_a3cfc_row4_col14, #T_a3cfc_row4_col15 {\n",
              "  font-size: 6pt;\n",
              "  background-color: #151515;\n",
              "  color: #f1f1f1;\n",
              "}\n",
              "#T_a3cfc_row4_col17 {\n",
              "  font-size: 6pt;\n",
              "  background-color: #656565;\n",
              "  color: #f1f1f1;\n",
              "}\n",
              "#T_a3cfc_row5_col1 {\n",
              "  font-size: 6pt;\n",
              "  background-color: #cdcdcd;\n",
              "  color: #000000;\n",
              "}\n",
              "#T_a3cfc_row5_col2 {\n",
              "  font-size: 6pt;\n",
              "  background-color: #464646;\n",
              "  color: #f1f1f1;\n",
              "}\n",
              "#T_a3cfc_row5_col6 {\n",
              "  font-size: 6pt;\n",
              "  background-color: #0c0c0c;\n",
              "  color: #f1f1f1;\n",
              "}\n",
              "#T_a3cfc_row5_col7 {\n",
              "  font-size: 6pt;\n",
              "  background-color: #535353;\n",
              "  color: #f1f1f1;\n",
              "}\n",
              "#T_a3cfc_row5_col8 {\n",
              "  font-size: 6pt;\n",
              "  background-color: #d3d3d3;\n",
              "  color: #000000;\n",
              "}\n",
              "#T_a3cfc_row5_col9 {\n",
              "  font-size: 6pt;\n",
              "  background-color: #cecece;\n",
              "  color: #000000;\n",
              "}\n",
              "#T_a3cfc_row5_col10 {\n",
              "  font-size: 6pt;\n",
              "  background-color: #414141;\n",
              "  color: #f1f1f1;\n",
              "}\n",
              "#T_a3cfc_row5_col16 {\n",
              "  font-size: 6pt;\n",
              "  background-color: #282828;\n",
              "  color: #f1f1f1;\n",
              "}\n",
              "#T_a3cfc_row6_col2, #T_a3cfc_row6_col16, #T_a3cfc_row7_col4 {\n",
              "  font-size: 6pt;\n",
              "  background-color: #f8f8f8;\n",
              "  color: #000000;\n",
              "}\n",
              "#T_a3cfc_row6_col3, #T_a3cfc_row7_col5 {\n",
              "  font-size: 6pt;\n",
              "  background-color: #7a7a7a;\n",
              "  color: #f1f1f1;\n",
              "}\n",
              "#T_a3cfc_row6_col4 {\n",
              "  font-size: 6pt;\n",
              "  background-color: #474747;\n",
              "  color: #f1f1f1;\n",
              "}\n",
              "#T_a3cfc_row6_col8 {\n",
              "  font-size: 6pt;\n",
              "  background-color: #0a0a0a;\n",
              "  color: #f1f1f1;\n",
              "}\n",
              "#T_a3cfc_row6_col9 {\n",
              "  font-size: 6pt;\n",
              "  background-color: #080808;\n",
              "  color: #f1f1f1;\n",
              "}\n",
              "#T_a3cfc_row6_col13 {\n",
              "  font-size: 6pt;\n",
              "  background-color: #101010;\n",
              "  color: #f1f1f1;\n",
              "}\n",
              "#T_a3cfc_row6_col14 {\n",
              "  font-size: 6pt;\n",
              "  background-color: #6f6f6f;\n",
              "  color: #f1f1f1;\n",
              "}\n",
              "#T_a3cfc_row6_col15 {\n",
              "  font-size: 6pt;\n",
              "  background-color: #c9c9c9;\n",
              "  color: #000000;\n",
              "}\n",
              "#T_a3cfc_row7_col6 {\n",
              "  font-size: 6pt;\n",
              "  background-color: #111111;\n",
              "  color: #f1f1f1;\n",
              "}\n",
              "#T_a3cfc_row7_col13 {\n",
              "  font-size: 6pt;\n",
              "  background-color: #666666;\n",
              "  color: #f1f1f1;\n",
              "}\n",
              "#T_a3cfc_row8_col6 {\n",
              "  font-size: 6pt;\n",
              "  background-color: #303030;\n",
              "  color: #f1f1f1;\n",
              "}\n",
              "#T_a3cfc_row8_col13 {\n",
              "  font-size: 6pt;\n",
              "  background-color: #505050;\n",
              "  color: #f1f1f1;\n",
              "}\n",
              "#T_a3cfc_row9_col5, #T_a3cfc_row10_col4 {\n",
              "  font-size: 6pt;\n",
              "  background-color: #f3f3f3;\n",
              "  color: #000000;\n",
              "}\n",
              "#T_a3cfc_row9_col6 {\n",
              "  font-size: 6pt;\n",
              "  background-color: #222222;\n",
              "  color: #f1f1f1;\n",
              "}\n",
              "#T_a3cfc_row9_col8, #T_a3cfc_row9_col11, #T_a3cfc_row10_col7 {\n",
              "  font-size: 6pt;\n",
              "  background-color: #171717;\n",
              "  color: #f1f1f1;\n",
              "}\n",
              "#T_a3cfc_row9_col9 {\n",
              "  font-size: 6pt;\n",
              "  background-color: #cacaca;\n",
              "  color: #000000;\n",
              "}\n",
              "#T_a3cfc_row9_col10 {\n",
              "  font-size: 6pt;\n",
              "  background-color: #7e7e7e;\n",
              "  color: #f1f1f1;\n",
              "}\n",
              "#T_a3cfc_row9_col14 {\n",
              "  font-size: 6pt;\n",
              "  background-color: #565656;\n",
              "  color: #f1f1f1;\n",
              "}\n",
              "#T_a3cfc_row9_col15 {\n",
              "  font-size: 6pt;\n",
              "  background-color: #f2f2f2;\n",
              "  color: #000000;\n",
              "}\n",
              "#T_a3cfc_row10_col5 {\n",
              "  font-size: 6pt;\n",
              "  background-color: #444444;\n",
              "  color: #f1f1f1;\n",
              "}\n",
              "#T_a3cfc_row10_col8 {\n",
              "  font-size: 6pt;\n",
              "  background-color: #d5d5d5;\n",
              "  color: #000000;\n",
              "}\n",
              "#T_a3cfc_row10_col11 {\n",
              "  font-size: 6pt;\n",
              "  background-color: #e9e9e9;\n",
              "  color: #000000;\n",
              "}\n",
              "#T_a3cfc_row10_col12 {\n",
              "  font-size: 6pt;\n",
              "  background-color: #717171;\n",
              "  color: #f1f1f1;\n",
              "}\n",
              "#T_a3cfc_row10_col15 {\n",
              "  font-size: 6pt;\n",
              "  background-color: #3d3d3d;\n",
              "  color: #f1f1f1;\n",
              "}\n",
              "#T_a3cfc_row10_col16 {\n",
              "  font-size: 6pt;\n",
              "  background-color: #f1f1f1;\n",
              "  color: #000000;\n",
              "}\n",
              "</style>\n",
              "<table id=\"T_a3cfc_\" class=\"dataframe\">\n",
              "  <thead>\n",
              "    <tr>\n",
              "      <th class=\"blank level0\" >&nbsp;</th>\n",
              "      <th class=\"col_heading level0 col0\" >0</th>\n",
              "      <th class=\"col_heading level0 col1\" >1</th>\n",
              "      <th class=\"col_heading level0 col2\" >2</th>\n",
              "      <th class=\"col_heading level0 col3\" >3</th>\n",
              "      <th class=\"col_heading level0 col4\" >4</th>\n",
              "      <th class=\"col_heading level0 col5\" >5</th>\n",
              "      <th class=\"col_heading level0 col6\" >6</th>\n",
              "      <th class=\"col_heading level0 col7\" >7</th>\n",
              "      <th class=\"col_heading level0 col8\" >8</th>\n",
              "      <th class=\"col_heading level0 col9\" >9</th>\n",
              "      <th class=\"col_heading level0 col10\" >10</th>\n",
              "      <th class=\"col_heading level0 col11\" >11</th>\n",
              "      <th class=\"col_heading level0 col12\" >12</th>\n",
              "      <th class=\"col_heading level0 col13\" >13</th>\n",
              "      <th class=\"col_heading level0 col14\" >14</th>\n",
              "      <th class=\"col_heading level0 col15\" >15</th>\n",
              "      <th class=\"col_heading level0 col16\" >16</th>\n",
              "      <th class=\"col_heading level0 col17\" >17</th>\n",
              "    </tr>\n",
              "  </thead>\n",
              "  <tbody>\n",
              "    <tr>\n",
              "      <th id=\"T_a3cfc_level0_row0\" class=\"row_heading level0 row0\" >0</th>\n",
              "      <td id=\"T_a3cfc_row0_col0\" class=\"data row0 col0\" >0</td>\n",
              "      <td id=\"T_a3cfc_row0_col1\" class=\"data row0 col1\" >0</td>\n",
              "      <td id=\"T_a3cfc_row0_col2\" class=\"data row0 col2\" >0</td>\n",
              "      <td id=\"T_a3cfc_row0_col3\" class=\"data row0 col3\" >0</td>\n",
              "      <td id=\"T_a3cfc_row0_col4\" class=\"data row0 col4\" >0</td>\n",
              "      <td id=\"T_a3cfc_row0_col5\" class=\"data row0 col5\" >0</td>\n",
              "      <td id=\"T_a3cfc_row0_col6\" class=\"data row0 col6\" >0</td>\n",
              "      <td id=\"T_a3cfc_row0_col7\" class=\"data row0 col7\" >0</td>\n",
              "      <td id=\"T_a3cfc_row0_col8\" class=\"data row0 col8\" >0</td>\n",
              "      <td id=\"T_a3cfc_row0_col9\" class=\"data row0 col9\" >0</td>\n",
              "      <td id=\"T_a3cfc_row0_col10\" class=\"data row0 col10\" >0</td>\n",
              "      <td id=\"T_a3cfc_row0_col11\" class=\"data row0 col11\" >0</td>\n",
              "      <td id=\"T_a3cfc_row0_col12\" class=\"data row0 col12\" >0</td>\n",
              "      <td id=\"T_a3cfc_row0_col13\" class=\"data row0 col13\" >0</td>\n",
              "      <td id=\"T_a3cfc_row0_col14\" class=\"data row0 col14\" >0</td>\n",
              "      <td id=\"T_a3cfc_row0_col15\" class=\"data row0 col15\" >0</td>\n",
              "      <td id=\"T_a3cfc_row0_col16\" class=\"data row0 col16\" >0</td>\n",
              "      <td id=\"T_a3cfc_row0_col17\" class=\"data row0 col17\" >0</td>\n",
              "    </tr>\n",
              "    <tr>\n",
              "      <th id=\"T_a3cfc_level0_row1\" class=\"row_heading level0 row1\" >1</th>\n",
              "      <td id=\"T_a3cfc_row1_col0\" class=\"data row1 col0\" >0</td>\n",
              "      <td id=\"T_a3cfc_row1_col1\" class=\"data row1 col1\" >58</td>\n",
              "      <td id=\"T_a3cfc_row1_col2\" class=\"data row1 col2\" >125</td>\n",
              "      <td id=\"T_a3cfc_row1_col3\" class=\"data row1 col3\" >245</td>\n",
              "      <td id=\"T_a3cfc_row1_col4\" class=\"data row1 col4\" >187</td>\n",
              "      <td id=\"T_a3cfc_row1_col5\" class=\"data row1 col5\" >254</td>\n",
              "      <td id=\"T_a3cfc_row1_col6\" class=\"data row1 col6\" >255</td>\n",
              "      <td id=\"T_a3cfc_row1_col7\" class=\"data row1 col7\" >214</td>\n",
              "      <td id=\"T_a3cfc_row1_col8\" class=\"data row1 col8\" >125</td>\n",
              "      <td id=\"T_a3cfc_row1_col9\" class=\"data row1 col9\" >225</td>\n",
              "      <td id=\"T_a3cfc_row1_col10\" class=\"data row1 col10\" >157</td>\n",
              "      <td id=\"T_a3cfc_row1_col11\" class=\"data row1 col11\" >35</td>\n",
              "      <td id=\"T_a3cfc_row1_col12\" class=\"data row1 col12\" >0</td>\n",
              "      <td id=\"T_a3cfc_row1_col13\" class=\"data row1 col13\" >0</td>\n",
              "      <td id=\"T_a3cfc_row1_col14\" class=\"data row1 col14\" >0</td>\n",
              "      <td id=\"T_a3cfc_row1_col15\" class=\"data row1 col15\" >0</td>\n",
              "      <td id=\"T_a3cfc_row1_col16\" class=\"data row1 col16\" >0</td>\n",
              "      <td id=\"T_a3cfc_row1_col17\" class=\"data row1 col17\" >0</td>\n",
              "    </tr>\n",
              "    <tr>\n",
              "      <th id=\"T_a3cfc_level0_row2\" class=\"row_heading level0 row2\" >2</th>\n",
              "      <td id=\"T_a3cfc_row2_col0\" class=\"data row2 col0\" >0</td>\n",
              "      <td id=\"T_a3cfc_row2_col1\" class=\"data row2 col1\" >118</td>\n",
              "      <td id=\"T_a3cfc_row2_col2\" class=\"data row2 col2\" >253</td>\n",
              "      <td id=\"T_a3cfc_row2_col3\" class=\"data row2 col3\" >253</td>\n",
              "      <td id=\"T_a3cfc_row2_col4\" class=\"data row2 col4\" >253</td>\n",
              "      <td id=\"T_a3cfc_row2_col5\" class=\"data row2 col5\" >253</td>\n",
              "      <td id=\"T_a3cfc_row2_col6\" class=\"data row2 col6\" >253</td>\n",
              "      <td id=\"T_a3cfc_row2_col7\" class=\"data row2 col7\" >253</td>\n",
              "      <td id=\"T_a3cfc_row2_col8\" class=\"data row2 col8\" >253</td>\n",
              "      <td id=\"T_a3cfc_row2_col9\" class=\"data row2 col9\" >253</td>\n",
              "      <td id=\"T_a3cfc_row2_col10\" class=\"data row2 col10\" >253</td>\n",
              "      <td id=\"T_a3cfc_row2_col11\" class=\"data row2 col11\" >249</td>\n",
              "      <td id=\"T_a3cfc_row2_col12\" class=\"data row2 col12\" >136</td>\n",
              "      <td id=\"T_a3cfc_row2_col13\" class=\"data row2 col13\" >0</td>\n",
              "      <td id=\"T_a3cfc_row2_col14\" class=\"data row2 col14\" >0</td>\n",
              "      <td id=\"T_a3cfc_row2_col15\" class=\"data row2 col15\" >0</td>\n",
              "      <td id=\"T_a3cfc_row2_col16\" class=\"data row2 col16\" >0</td>\n",
              "      <td id=\"T_a3cfc_row2_col17\" class=\"data row2 col17\" >0</td>\n",
              "    </tr>\n",
              "    <tr>\n",
              "      <th id=\"T_a3cfc_level0_row3\" class=\"row_heading level0 row3\" >3</th>\n",
              "      <td id=\"T_a3cfc_row3_col0\" class=\"data row3 col0\" >0</td>\n",
              "      <td id=\"T_a3cfc_row3_col1\" class=\"data row3 col1\" >242</td>\n",
              "      <td id=\"T_a3cfc_row3_col2\" class=\"data row3 col2\" >253</td>\n",
              "      <td id=\"T_a3cfc_row3_col3\" class=\"data row3 col3\" >253</td>\n",
              "      <td id=\"T_a3cfc_row3_col4\" class=\"data row3 col4\" >253</td>\n",
              "      <td id=\"T_a3cfc_row3_col5\" class=\"data row3 col5\" >253</td>\n",
              "      <td id=\"T_a3cfc_row3_col6\" class=\"data row3 col6\" >253</td>\n",
              "      <td id=\"T_a3cfc_row3_col7\" class=\"data row3 col7\" >253</td>\n",
              "      <td id=\"T_a3cfc_row3_col8\" class=\"data row3 col8\" >253</td>\n",
              "      <td id=\"T_a3cfc_row3_col9\" class=\"data row3 col9\" >253</td>\n",
              "      <td id=\"T_a3cfc_row3_col10\" class=\"data row3 col10\" >253</td>\n",
              "      <td id=\"T_a3cfc_row3_col11\" class=\"data row3 col11\" >253</td>\n",
              "      <td id=\"T_a3cfc_row3_col12\" class=\"data row3 col12\" >251</td>\n",
              "      <td id=\"T_a3cfc_row3_col13\" class=\"data row3 col13\" >137</td>\n",
              "      <td id=\"T_a3cfc_row3_col14\" class=\"data row3 col14\" >0</td>\n",
              "      <td id=\"T_a3cfc_row3_col15\" class=\"data row3 col15\" >0</td>\n",
              "      <td id=\"T_a3cfc_row3_col16\" class=\"data row3 col16\" >0</td>\n",
              "      <td id=\"T_a3cfc_row3_col17\" class=\"data row3 col17\" >0</td>\n",
              "    </tr>\n",
              "    <tr>\n",
              "      <th id=\"T_a3cfc_level0_row4\" class=\"row_heading level0 row4\" >4</th>\n",
              "      <td id=\"T_a3cfc_row4_col0\" class=\"data row4 col0\" >0</td>\n",
              "      <td id=\"T_a3cfc_row4_col1\" class=\"data row4 col1\" >194</td>\n",
              "      <td id=\"T_a3cfc_row4_col2\" class=\"data row4 col2\" >253</td>\n",
              "      <td id=\"T_a3cfc_row4_col3\" class=\"data row4 col3\" >253</td>\n",
              "      <td id=\"T_a3cfc_row4_col4\" class=\"data row4 col4\" >253</td>\n",
              "      <td id=\"T_a3cfc_row4_col5\" class=\"data row4 col5\" >253</td>\n",
              "      <td id=\"T_a3cfc_row4_col6\" class=\"data row4 col6\" >108</td>\n",
              "      <td id=\"T_a3cfc_row4_col7\" class=\"data row4 col7\" >19</td>\n",
              "      <td id=\"T_a3cfc_row4_col8\" class=\"data row4 col8\" >56</td>\n",
              "      <td id=\"T_a3cfc_row4_col9\" class=\"data row4 col9\" >48</td>\n",
              "      <td id=\"T_a3cfc_row4_col10\" class=\"data row4 col10\" >140</td>\n",
              "      <td id=\"T_a3cfc_row4_col11\" class=\"data row4 col11\" >253</td>\n",
              "      <td id=\"T_a3cfc_row4_col12\" class=\"data row4 col12\" >253</td>\n",
              "      <td id=\"T_a3cfc_row4_col13\" class=\"data row4 col13\" >250</td>\n",
              "      <td id=\"T_a3cfc_row4_col14\" class=\"data row4 col14\" >235</td>\n",
              "      <td id=\"T_a3cfc_row4_col15\" class=\"data row4 col15\" >235</td>\n",
              "      <td id=\"T_a3cfc_row4_col16\" class=\"data row4 col16\" >225</td>\n",
              "      <td id=\"T_a3cfc_row4_col17\" class=\"data row4 col17\" >46</td>\n",
              "    </tr>\n",
              "    <tr>\n",
              "      <th id=\"T_a3cfc_level0_row5\" class=\"row_heading level0 row5\" >5</th>\n",
              "      <td id=\"T_a3cfc_row5_col0\" class=\"data row5 col0\" >0</td>\n",
              "      <td id=\"T_a3cfc_row5_col1\" class=\"data row5 col1\" >73</td>\n",
              "      <td id=\"T_a3cfc_row5_col2\" class=\"data row5 col2\" >198</td>\n",
              "      <td id=\"T_a3cfc_row5_col3\" class=\"data row5 col3\" >253</td>\n",
              "      <td id=\"T_a3cfc_row5_col4\" class=\"data row5 col4\" >253</td>\n",
              "      <td id=\"T_a3cfc_row5_col5\" class=\"data row5 col5\" >253</td>\n",
              "      <td id=\"T_a3cfc_row5_col6\" class=\"data row5 col6\" >245</td>\n",
              "      <td id=\"T_a3cfc_row5_col7\" class=\"data row5 col7\" >188</td>\n",
              "      <td id=\"T_a3cfc_row5_col8\" class=\"data row5 col8\" >71</td>\n",
              "      <td id=\"T_a3cfc_row5_col9\" class=\"data row5 col9\" >76</td>\n",
              "      <td id=\"T_a3cfc_row5_col10\" class=\"data row5 col10\" >201</td>\n",
              "      <td id=\"T_a3cfc_row5_col11\" class=\"data row5 col11\" >253</td>\n",
              "      <td id=\"T_a3cfc_row5_col12\" class=\"data row5 col12\" >253</td>\n",
              "      <td id=\"T_a3cfc_row5_col13\" class=\"data row5 col13\" >253</td>\n",
              "      <td id=\"T_a3cfc_row5_col14\" class=\"data row5 col14\" >253</td>\n",
              "      <td id=\"T_a3cfc_row5_col15\" class=\"data row5 col15\" >253</td>\n",
              "      <td id=\"T_a3cfc_row5_col16\" class=\"data row5 col16\" >195</td>\n",
              "      <td id=\"T_a3cfc_row5_col17\" class=\"data row5 col17\" >68</td>\n",
              "    </tr>\n",
              "    <tr>\n",
              "      <th id=\"T_a3cfc_level0_row6\" class=\"row_heading level0 row6\" >6</th>\n",
              "      <td id=\"T_a3cfc_row6_col0\" class=\"data row6 col0\" >0</td>\n",
              "      <td id=\"T_a3cfc_row6_col1\" class=\"data row6 col1\" >0</td>\n",
              "      <td id=\"T_a3cfc_row6_col2\" class=\"data row6 col2\" >14</td>\n",
              "      <td id=\"T_a3cfc_row6_col3\" class=\"data row6 col3\" >152</td>\n",
              "      <td id=\"T_a3cfc_row6_col4\" class=\"data row6 col4\" >197</td>\n",
              "      <td id=\"T_a3cfc_row6_col5\" class=\"data row6 col5\" >253</td>\n",
              "      <td id=\"T_a3cfc_row6_col6\" class=\"data row6 col6\" >253</td>\n",
              "      <td id=\"T_a3cfc_row6_col7\" class=\"data row6 col7\" >253</td>\n",
              "      <td id=\"T_a3cfc_row6_col8\" class=\"data row6 col8\" >244</td>\n",
              "      <td id=\"T_a3cfc_row6_col9\" class=\"data row6 col9\" >246</td>\n",
              "      <td id=\"T_a3cfc_row6_col10\" class=\"data row6 col10\" >253</td>\n",
              "      <td id=\"T_a3cfc_row6_col11\" class=\"data row6 col11\" >253</td>\n",
              "      <td id=\"T_a3cfc_row6_col12\" class=\"data row6 col12\" >253</td>\n",
              "      <td id=\"T_a3cfc_row6_col13\" class=\"data row6 col13\" >239</td>\n",
              "      <td id=\"T_a3cfc_row6_col14\" class=\"data row6 col14\" >162</td>\n",
              "      <td id=\"T_a3cfc_row6_col15\" class=\"data row6 col15\" >82</td>\n",
              "      <td id=\"T_a3cfc_row6_col16\" class=\"data row6 col16\" >13</td>\n",
              "      <td id=\"T_a3cfc_row6_col17\" class=\"data row6 col17\" >0</td>\n",
              "    </tr>\n",
              "    <tr>\n",
              "      <th id=\"T_a3cfc_level0_row7\" class=\"row_heading level0 row7\" >7</th>\n",
              "      <td id=\"T_a3cfc_row7_col0\" class=\"data row7 col0\" >0</td>\n",
              "      <td id=\"T_a3cfc_row7_col1\" class=\"data row7 col1\" >0</td>\n",
              "      <td id=\"T_a3cfc_row7_col2\" class=\"data row7 col2\" >0</td>\n",
              "      <td id=\"T_a3cfc_row7_col3\" class=\"data row7 col3\" >0</td>\n",
              "      <td id=\"T_a3cfc_row7_col4\" class=\"data row7 col4\" >15</td>\n",
              "      <td id=\"T_a3cfc_row7_col5\" class=\"data row7 col5\" >152</td>\n",
              "      <td id=\"T_a3cfc_row7_col6\" class=\"data row7 col6\" >240</td>\n",
              "      <td id=\"T_a3cfc_row7_col7\" class=\"data row7 col7\" >253</td>\n",
              "      <td id=\"T_a3cfc_row7_col8\" class=\"data row7 col8\" >253</td>\n",
              "      <td id=\"T_a3cfc_row7_col9\" class=\"data row7 col9\" >253</td>\n",
              "      <td id=\"T_a3cfc_row7_col10\" class=\"data row7 col10\" >253</td>\n",
              "      <td id=\"T_a3cfc_row7_col11\" class=\"data row7 col11\" >253</td>\n",
              "      <td id=\"T_a3cfc_row7_col12\" class=\"data row7 col12\" >253</td>\n",
              "      <td id=\"T_a3cfc_row7_col13\" class=\"data row7 col13\" >170</td>\n",
              "      <td id=\"T_a3cfc_row7_col14\" class=\"data row7 col14\" >0</td>\n",
              "      <td id=\"T_a3cfc_row7_col15\" class=\"data row7 col15\" >0</td>\n",
              "      <td id=\"T_a3cfc_row7_col16\" class=\"data row7 col16\" >0</td>\n",
              "      <td id=\"T_a3cfc_row7_col17\" class=\"data row7 col17\" >0</td>\n",
              "    </tr>\n",
              "    <tr>\n",
              "      <th id=\"T_a3cfc_level0_row8\" class=\"row_heading level0 row8\" >8</th>\n",
              "      <td id=\"T_a3cfc_row8_col0\" class=\"data row8 col0\" >0</td>\n",
              "      <td id=\"T_a3cfc_row8_col1\" class=\"data row8 col1\" >0</td>\n",
              "      <td id=\"T_a3cfc_row8_col2\" class=\"data row8 col2\" >0</td>\n",
              "      <td id=\"T_a3cfc_row8_col3\" class=\"data row8 col3\" >0</td>\n",
              "      <td id=\"T_a3cfc_row8_col4\" class=\"data row8 col4\" >0</td>\n",
              "      <td id=\"T_a3cfc_row8_col5\" class=\"data row8 col5\" >0</td>\n",
              "      <td id=\"T_a3cfc_row8_col6\" class=\"data row8 col6\" >215</td>\n",
              "      <td id=\"T_a3cfc_row8_col7\" class=\"data row8 col7\" >253</td>\n",
              "      <td id=\"T_a3cfc_row8_col8\" class=\"data row8 col8\" >253</td>\n",
              "      <td id=\"T_a3cfc_row8_col9\" class=\"data row8 col9\" >253</td>\n",
              "      <td id=\"T_a3cfc_row8_col10\" class=\"data row8 col10\" >253</td>\n",
              "      <td id=\"T_a3cfc_row8_col11\" class=\"data row8 col11\" >253</td>\n",
              "      <td id=\"T_a3cfc_row8_col12\" class=\"data row8 col12\" >253</td>\n",
              "      <td id=\"T_a3cfc_row8_col13\" class=\"data row8 col13\" >191</td>\n",
              "      <td id=\"T_a3cfc_row8_col14\" class=\"data row8 col14\" >0</td>\n",
              "      <td id=\"T_a3cfc_row8_col15\" class=\"data row8 col15\" >0</td>\n",
              "      <td id=\"T_a3cfc_row8_col16\" class=\"data row8 col16\" >0</td>\n",
              "      <td id=\"T_a3cfc_row8_col17\" class=\"data row8 col17\" >0</td>\n",
              "    </tr>\n",
              "    <tr>\n",
              "      <th id=\"T_a3cfc_level0_row9\" class=\"row_heading level0 row9\" >9</th>\n",
              "      <td id=\"T_a3cfc_row9_col0\" class=\"data row9 col0\" >0</td>\n",
              "      <td id=\"T_a3cfc_row9_col1\" class=\"data row9 col1\" >0</td>\n",
              "      <td id=\"T_a3cfc_row9_col2\" class=\"data row9 col2\" >0</td>\n",
              "      <td id=\"T_a3cfc_row9_col3\" class=\"data row9 col3\" >0</td>\n",
              "      <td id=\"T_a3cfc_row9_col4\" class=\"data row9 col4\" >0</td>\n",
              "      <td id=\"T_a3cfc_row9_col5\" class=\"data row9 col5\" >26</td>\n",
              "      <td id=\"T_a3cfc_row9_col6\" class=\"data row9 col6\" >226</td>\n",
              "      <td id=\"T_a3cfc_row9_col7\" class=\"data row9 col7\" >253</td>\n",
              "      <td id=\"T_a3cfc_row9_col8\" class=\"data row9 col8\" >233</td>\n",
              "      <td id=\"T_a3cfc_row9_col9\" class=\"data row9 col9\" >81</td>\n",
              "      <td id=\"T_a3cfc_row9_col10\" class=\"data row9 col10\" >148</td>\n",
              "      <td id=\"T_a3cfc_row9_col11\" class=\"data row9 col11\" >233</td>\n",
              "      <td id=\"T_a3cfc_row9_col12\" class=\"data row9 col12\" >253</td>\n",
              "      <td id=\"T_a3cfc_row9_col13\" class=\"data row9 col13\" >245</td>\n",
              "      <td id=\"T_a3cfc_row9_col14\" class=\"data row9 col14\" >185</td>\n",
              "      <td id=\"T_a3cfc_row9_col15\" class=\"data row9 col15\" >28</td>\n",
              "      <td id=\"T_a3cfc_row9_col16\" class=\"data row9 col16\" >0</td>\n",
              "      <td id=\"T_a3cfc_row9_col17\" class=\"data row9 col17\" >0</td>\n",
              "    </tr>\n",
              "    <tr>\n",
              "      <th id=\"T_a3cfc_level0_row10\" class=\"row_heading level0 row10\" >10</th>\n",
              "      <td id=\"T_a3cfc_row10_col0\" class=\"data row10 col0\" >0</td>\n",
              "      <td id=\"T_a3cfc_row10_col1\" class=\"data row10 col1\" >0</td>\n",
              "      <td id=\"T_a3cfc_row10_col2\" class=\"data row10 col2\" >0</td>\n",
              "      <td id=\"T_a3cfc_row10_col3\" class=\"data row10 col3\" >0</td>\n",
              "      <td id=\"T_a3cfc_row10_col4\" class=\"data row10 col4\" >26</td>\n",
              "      <td id=\"T_a3cfc_row10_col5\" class=\"data row10 col5\" >200</td>\n",
              "      <td id=\"T_a3cfc_row10_col6\" class=\"data row10 col6\" >253</td>\n",
              "      <td id=\"T_a3cfc_row10_col7\" class=\"data row10 col7\" >233</td>\n",
              "      <td id=\"T_a3cfc_row10_col8\" class=\"data row10 col8\" >68</td>\n",
              "      <td id=\"T_a3cfc_row10_col9\" class=\"data row10 col9\" >0</td>\n",
              "      <td id=\"T_a3cfc_row10_col10\" class=\"data row10 col10\" >0</td>\n",
              "      <td id=\"T_a3cfc_row10_col11\" class=\"data row10 col11\" >42</td>\n",
              "      <td id=\"T_a3cfc_row10_col12\" class=\"data row10 col12\" >160</td>\n",
              "      <td id=\"T_a3cfc_row10_col13\" class=\"data row10 col13\" >253</td>\n",
              "      <td id=\"T_a3cfc_row10_col14\" class=\"data row10 col14\" >253</td>\n",
              "      <td id=\"T_a3cfc_row10_col15\" class=\"data row10 col15\" >204</td>\n",
              "      <td id=\"T_a3cfc_row10_col16\" class=\"data row10 col16\" >27</td>\n",
              "      <td id=\"T_a3cfc_row10_col17\" class=\"data row10 col17\" >0</td>\n",
              "    </tr>\n",
              "  </tbody>\n",
              "</table>\n"
            ],
            "text/plain": [
              "<pandas.io.formats.style.Styler at 0x7f8b23a73510>"
            ]
          },
          "metadata": {},
          "execution_count": 15
        }
      ]
    },
    {
      "cell_type": "markdown",
      "source": [
        "Creating a tensor of stacked numbers "
      ],
      "metadata": {
        "id": "sQcvArQjSKd3"
      }
    },
    {
      "cell_type": "code",
      "source": [
        "eight_tensors = [tensor(Image.open(o)) for o in eights]\n",
        "three_tensors = [tensor(Image.open(o)) for o in threes]\n",
        "one_tensors = [tensor(Image.open(o)) for o in ones]\n",
        "seven_tensors = [tensor(Image.open(o)) for o in sevens]\n",
        "len(three_tensors),len(one_tensors),len(eight_tensors),len(seven_tensors)"
      ],
      "metadata": {
        "colab": {
          "base_uri": "https://localhost:8080/"
        },
        "id": "biQDnyxASSQW",
        "outputId": "c6fac0a7-65ec-4c20-94ca-979f1cffaba4"
      },
      "execution_count": null,
      "outputs": [
        {
          "output_type": "execute_result",
          "data": {
            "text/plain": [
              "(6131, 6742, 5851, 6265)"
            ]
          },
          "metadata": {},
          "execution_count": 16
        }
      ]
    },
    {
      "cell_type": "code",
      "source": [
        "show_image(eight_tensors[6])"
      ],
      "metadata": {
        "colab": {
          "base_uri": "https://localhost:8080/",
          "height": 104
        },
        "id": "o83olletTPw_",
        "outputId": "098fd9cb-b798-41b1-c977-2b062d69741c"
      },
      "execution_count": null,
      "outputs": [
        {
          "output_type": "execute_result",
          "data": {
            "text/plain": [
              "<matplotlib.axes._subplots.AxesSubplot at 0x7f8b23930a10>"
            ]
          },
          "metadata": {},
          "execution_count": 17
        },
        {
          "output_type": "display_data",
          "data": {
            "image/png": "[encoded data removed]",
            "text/plain": [
              "<Figure size 72x72 with 1 Axes>"
            ]
          },
          "metadata": {
            "needs_background": "light"
          }
        }
      ]
    },
    {
      "cell_type": "markdown",
      "source": [
        "Stacking the images and displaying the shape"
      ],
      "metadata": {
        "id": "akybMxxCTwDD"
      }
    },
    {
      "cell_type": "code",
      "source": [
        "stacked_sevens = torch.stack(seven_tensors).float()/255\n",
        "stacked_threes = torch.stack(three_tensors).float()/255\n",
        "stacked_ones = torch.stack(one_tensors).float()/255\n",
        "stacked_eights = torch.stack(eight_tensors).float()/255\n",
        "stacked_eights.shape"
      ],
      "metadata": {
        "colab": {
          "base_uri": "https://localhost:8080/"
        },
        "id": "z5MzUmAoTz-R",
        "outputId": "984c5377-7015-4b6b-f60b-5f98851f2040"
      },
      "execution_count": null,
      "outputs": [
        {
          "output_type": "execute_result",
          "data": {
            "text/plain": [
              "torch.Size([5851, 28, 28])"
            ]
          },
          "metadata": {},
          "execution_count": 18
        }
      ]
    },
    {
      "cell_type": "code",
      "source": [
        "len(stacked_eights.shape)"
      ],
      "metadata": {
        "colab": {
          "base_uri": "https://localhost:8080/"
        },
        "id": "xNQjXz3FUarw",
        "outputId": "15770d60-37ab-4860-b995-329f379fd400"
      },
      "execution_count": null,
      "outputs": [
        {
          "output_type": "execute_result",
          "data": {
            "text/plain": [
              "3"
            ]
          },
          "metadata": {},
          "execution_count": 19
        }
      ]
    },
    {
      "cell_type": "code",
      "source": [
        "stacked_threes.ndim"
      ],
      "metadata": {
        "colab": {
          "base_uri": "https://localhost:8080/"
        },
        "id": "JF36Mhu8U2_F",
        "outputId": "bc7ffa96-ea00-4e6d-f3e6-cdc6aad28c73"
      },
      "execution_count": null,
      "outputs": [
        {
          "output_type": "execute_result",
          "data": {
            "text/plain": [
              "3"
            ]
          },
          "metadata": {},
          "execution_count": 20
        }
      ]
    },
    {
      "cell_type": "markdown",
      "source": [
        "Calculating the mean of all images and displaying what an ideal 8 looks like"
      ],
      "metadata": {
        "id": "yYMDppPHU-Bk"
      }
    },
    {
      "cell_type": "code",
      "source": [
        "mean8 = stacked_eights.mean(0)\n",
        "show_image(mean8);\n",
        "\n",
        "mean7 = stacked_sevens.mean(0)\n",
        "show_image(mean7);\n",
        "\n",
        "mean1 = stacked_ones.mean(0)\n",
        "show_image(mean1);\n",
        "\n",
        "mean3 = stacked_threes.mean(0)\n",
        "show_image(mean3);"
      ],
      "metadata": {
        "colab": {
          "base_uri": "https://localhost:8080/",
          "height": 289
        },
        "id": "v2aZjoPMVFQ_",
        "outputId": "436085e5-cc58-4631-98e9-bf9fb63eafef"
      },
      "execution_count": null,
      "outputs": [
        {
          "output_type": "display_data",
          "data": {
            "image/png": "[encoded data removed]",
            "text/plain": [
              "<Figure size 72x72 with 1 Axes>"
            ]
          },
          "metadata": {
            "needs_background": "light"
          }
        },
        {
          "output_type": "display_data",
          "data": {
            "image/png": "[encoded data removed]",
            "text/plain": [
              "<Figure size 72x72 with 1 Axes>"
            ]
          },
          "metadata": {
            "needs_background": "light"
          }
        },
        {
          "output_type": "display_data",
          "data": {
            "image/png": "[encoded data removed]",
            "text/plain": [
              "<Figure size 72x72 with 1 Axes>"
            ]
          },
          "metadata": {
            "needs_background": "light"
          }
        },
        {
          "output_type": "display_data",
          "data": {
            "image/png": "[encoded data removed]",
            "text/plain": [
              "<Figure size 72x72 with 1 Axes>"
            ]
          },
          "metadata": {
            "needs_background": "light"
          }
        }
      ]
    },
    {
      "cell_type": "markdown",
      "source": [
        "Measuring distance of ideal digits\n"
      ],
      "metadata": {
        "id": "f00tFP0DWzOt"
      }
    },
    {
      "cell_type": "code",
      "source": [
        "a_8 = stacked_eights[1]\n",
        "show_image(a_8);\n",
        "\n",
        "a_3 = stacked_threes[1]\n",
        "show_image(a_3);\n",
        "\n",
        "a_1 = stacked_ones[1]\n",
        "show_image(a_1);\n",
        "\n",
        "a_7 = stacked_sevens[1]\n",
        "show_image(a_7);"
      ],
      "metadata": {
        "colab": {
          "base_uri": "https://localhost:8080/",
          "height": 289
        },
        "id": "45vWBpNJW3vQ",
        "outputId": "b30c09bf-b728-4085-9ae1-1866792e9ff6"
      },
      "execution_count": null,
      "outputs": [
        {
          "output_type": "display_data",
          "data": {
            "image/png": "[encoded data removed]",
            "text/plain": [
              "<Figure size 72x72 with 1 Axes>"
            ]
          },
          "metadata": {
            "needs_background": "light"
          }
        },
        {
          "output_type": "display_data",
          "data": {
            "image/png": "[encoded data removed]",
            "text/plain": [
              "<Figure size 72x72 with 1 Axes>"
            ]
          },
          "metadata": {
            "needs_background": "light"
          }
        },
        {
          "output_type": "display_data",
          "data": {
            "image/png": "[encoded data removed]",
            "text/plain": [
              "<Figure size 72x72 with 1 Axes>"
            ]
          },
          "metadata": {
            "needs_background": "light"
          }
        },
        {
          "output_type": "display_data",
          "data": {
            "image/png": "[encoded data removed]",
            "text/plain": [
              "<Figure size 72x72 with 1 Axes>"
            ]
          },
          "metadata": {
            "needs_background": "light"
          }
        }
      ]
    },
    {
      "cell_type": "markdown",
      "source": [
        "using L1 norm and L2 norm"
      ],
      "metadata": {
        "id": "zoXOfi4JXs5g"
      }
    },
    {
      "cell_type": "code",
      "source": [
        "dist_8_abs = (a_8 - mean8).abs().mean()\n",
        "dist_8_sqr = ((a_8 - mean8)**2).mean().sqrt()\n",
        "dist_8_abs,dist_8_sqr\n"
      ],
      "metadata": {
        "colab": {
          "base_uri": "https://localhost:8080/"
        },
        "id": "-ZhE9EFVXvwX",
        "outputId": "078d0a58-0394-4ff3-a160-d4cab17f9596"
      },
      "execution_count": null,
      "outputs": [
        {
          "output_type": "execute_result",
          "data": {
            "text/plain": [
              "(tensor(0.1959), tensor(0.3387))"
            ]
          },
          "metadata": {},
          "execution_count": 23
        }
      ]
    },
    {
      "cell_type": "code",
      "source": [
        "dist_7_abs = (a_8 - mean7).abs().mean()\n",
        "dist_7_sqr = ((a_8 - mean7)**2).mean().sqrt()\n",
        "dist_7_abs,dist_7_sqr"
      ],
      "metadata": {
        "colab": {
          "base_uri": "https://localhost:8080/"
        },
        "id": "g_tZdYmkYsc_",
        "outputId": "e7a306e0-094b-42e6-a58a-0973027bbd4a"
      },
      "execution_count": null,
      "outputs": [
        {
          "output_type": "execute_result",
          "data": {
            "text/plain": [
              "(tensor(0.1984), tensor(0.3574))"
            ]
          },
          "metadata": {},
          "execution_count": 24
        }
      ]
    },
    {
      "cell_type": "markdown",
      "source": [
        "the Loss function"
      ],
      "metadata": {
        "id": "jEpiRZ8FY6fD"
      }
    },
    {
      "cell_type": "code",
      "source": [
        "F.l1_loss(a_8.float(),mean7), F.mse_loss(a_8,mean7).sqrt()"
      ],
      "metadata": {
        "colab": {
          "base_uri": "https://localhost:8080/"
        },
        "id": "k_eLqjiyY9Sw",
        "outputId": "a259cdff-a872-46ac-cb0d-a330bae47bfe"
      },
      "execution_count": null,
      "outputs": [
        {
          "output_type": "execute_result",
          "data": {
            "text/plain": [
              "(tensor(0.1984), tensor(0.3574))"
            ]
          },
          "metadata": {},
          "execution_count": 25
        }
      ]
    },
    {
      "cell_type": "markdown",
      "source": [
        "Computing Metrics using Broadcasting"
      ],
      "metadata": {
        "id": "T8SGU5FydvYm"
      }
    },
    {
      "cell_type": "code",
      "source": [
        "#THREES\n",
        "valid_3_tens = torch.stack([tensor(Image.open(o)) \n",
        "                            for o in (threes_valid)])\n",
        "valid_3_tens = valid_3_tens.float()/255\n",
        "#EIGHTS\n",
        "valid_8_tens = torch.stack([tensor(Image.open(o)) \n",
        "                            for o in (eights_valid)])\n",
        "valid_8_tens = valid_8_tens.float()/255\n",
        "#ONES\n",
        "valid_1_tens = torch.stack([tensor(Image.open(o)) \n",
        "                            for o in (ones_valid)])\n",
        "valid_1_tens = valid_1_tens.float()/255\n",
        "#SEVENS\n",
        "valid_7_tens = torch.stack([tensor(Image.open(o)) \n",
        "                            for o in (sevens_valid)])\n",
        "valid_7_tens = valid_7_tens.float()/255\n",
        "\n",
        "#DISPLAYING THE SHAPES AND THE IMAGE SIZES\n",
        "valid_3_tens.shape,valid_1_tens.shape,valid_7_tens.shape,valid_8_tens.shape\n",
        "\n"
      ],
      "metadata": {
        "colab": {
          "base_uri": "https://localhost:8080/"
        },
        "id": "3zThHDaRJTqB",
        "outputId": "5c6476c6-a55c-48d8-ed07-c01c15e25f07"
      },
      "execution_count": null,
      "outputs": [
        {
          "output_type": "execute_result",
          "data": {
            "text/plain": [
              "(torch.Size([1227, 28, 28]),\n",
              " torch.Size([1349, 28, 28]),\n",
              " torch.Size([1253, 28, 28]),\n",
              " torch.Size([1171, 28, 28]))"
            ]
          },
          "metadata": {},
          "execution_count": 26
        }
      ]
    },
    {
      "cell_type": "markdown",
      "source": [
        "test set"
      ],
      "metadata": {
        "id": "R0PJteWLfb_G"
      }
    },
    {
      "cell_type": "code",
      "source": [
        "#SEVENS\n",
        "test_7_tens = torch.stack([tensor(Image.open(o)) \n",
        "                            for o in (path/'testing'/'7').ls()])\n",
        "test_7_tens = test_7_tens.float()/255\n",
        "\n",
        "#EIGHTS\n",
        "test_8_tens = torch.stack([tensor(Image.open(o)) \n",
        "                            for o in (path/'testing'/'8').ls()])\n",
        "test_8_tens = test_8_tens.float()/255\n",
        "\n",
        "#ONES\n",
        "test_1_tens = torch.stack([tensor(Image.open(o)) \n",
        "                            for o in (path/'testing'/'1').ls()])\n",
        "test_1_tens = test_1_tens.float()/255\n",
        "\n",
        "#THREES\n",
        "test_3_tens = torch.stack([tensor(Image.open(o)) \n",
        "                            for o in (path/'testing'/'3').ls()])\n",
        "test_3_tens = test_3_tens.float()/255\n",
        "\n",
        "test_3_tens.shape,test_7_tens.shape,test_1_tens.shape,test_8_tens.shape\n"
      ],
      "metadata": {
        "colab": {
          "base_uri": "https://localhost:8080/"
        },
        "id": "JD7L-oGGfZVw",
        "outputId": "ec2ab91f-d97c-405f-e1cb-80225f684e8f"
      },
      "execution_count": null,
      "outputs": [
        {
          "output_type": "execute_result",
          "data": {
            "text/plain": [
              "(torch.Size([1010, 28, 28]),\n",
              " torch.Size([1028, 28, 28]),\n",
              " torch.Size([1135, 28, 28]),\n",
              " torch.Size([974, 28, 28]))"
            ]
          },
          "metadata": {},
          "execution_count": 27
        }
      ]
    },
    {
      "cell_type": "markdown",
      "source": [
        "Function to calculate the mean absolute error using Broadcasting"
      ],
      "metadata": {
        "id": "Kyn4TlSMLmPa"
      }
    },
    {
      "cell_type": "code",
      "source": [
        "def mnist_distance(a,b): return (a-b).abs().mean((-1,-2))\n",
        "\n",
        "mnist_distance(a_3, mean3),mnist_distance(a_1, mean1),mnist_distance(a_7, mean7),mnist_distance(a_8, mean8)"
      ],
      "metadata": {
        "colab": {
          "base_uri": "https://localhost:8080/"
        },
        "id": "hSZ--HhMLluU",
        "outputId": "4f2bd33e-e234-4359-abfa-1b4c81bd2541"
      },
      "execution_count": null,
      "outputs": [
        {
          "output_type": "execute_result",
          "data": {
            "text/plain": [
              "(tensor(0.1114), tensor(0.0601), tensor(0.1304), tensor(0.1959))"
            ]
          },
          "metadata": {},
          "execution_count": 28
        }
      ]
    },
    {
      "cell_type": "code",
      "source": [
        "valid_3_dist = mnist_distance(valid_3_tens, mean3)\n",
        "valid_1_dist = mnist_distance(valid_1_tens, mean1)\n",
        "valid_7_dist = mnist_distance(valid_7_tens, mean7)\n",
        "valid_8_dist = mnist_distance(valid_8_tens, mean8)\n",
        "\n",
        "(valid_3_dist, valid_3_dist.shape),(valid_1_dist, valid_1_dist.shape),(valid_8_dist, valid_8_dist.shape),(valid_7_dist, valid_7_dist.shape)"
      ],
      "metadata": {
        "colab": {
          "base_uri": "https://localhost:8080/"
        },
        "id": "ogZfrYmJNWhn",
        "outputId": "b845ebe0-70d3-412b-94cd-025a39115cfe"
      },
      "execution_count": null,
      "outputs": [
        {
          "output_type": "execute_result",
          "data": {
            "text/plain": [
              "((tensor([0.1133, 0.1359, 0.1709,  ..., 0.1250, 0.1395, 0.1188]),\n",
              "  torch.Size([1227])),\n",
              " (tensor([0.0640, 0.0752, 0.0627,  ..., 0.0926, 0.0767, 0.0586]),\n",
              "  torch.Size([1349])),\n",
              " (tensor([0.1163, 0.1127, 0.1463,  ..., 0.1091, 0.1983, 0.1189]),\n",
              "  torch.Size([1171])),\n",
              " (tensor([0.0995, 0.0879, 0.1295,  ..., 0.1074, 0.0996, 0.0891]),\n",
              "  torch.Size([1253])))"
            ]
          },
          "metadata": {},
          "execution_count": 29
        }
      ]
    },
    {
      "cell_type": "markdown",
      "source": [
        "**Classifying images**"
      ],
      "metadata": {
        "id": "BSfPh_F0QVdH"
      }
    },
    {
      "cell_type": "code",
      "source": [
        "#THREES\n",
        "def is_3(x): \n",
        "  return (((mnist_distance(x,mean3) < mnist_distance(x,mean7))<mnist_distance(x,mean1))<mnist_distance(x,mean8))\n",
        "\n",
        "#SEVENS\n",
        "def is_7(x): \n",
        "  return (((mnist_distance(x,mean7) < mnist_distance(x,mean3))<mnist_distance(x,mean1))<mnist_distance(x,mean8))\n",
        "\n",
        "#EIGHTS\n",
        "def is_8(x): \n",
        "  return (((mnist_distance(x,mean8) < mnist_distance(x,mean7))<mnist_distance(x,mean1))<mnist_distance(x,mean3))\n",
        "\n",
        "#ONES\n",
        "def is_1(x): \n",
        "  return (((mnist_distance(x,mean1) < mnist_distance(x,mean7))<mnist_distance(x,mean3))<mnist_distance(x,mean8))"
      ],
      "metadata": {
        "id": "Epl-lbdpQaVd"
      },
      "execution_count": null,
      "outputs": []
    },
    {
      "cell_type": "markdown",
      "source": [
        "TESTING"
      ],
      "metadata": {
        "id": "Wbr6IVmXR1xV"
      }
    },
    {
      "cell_type": "code",
      "source": [
        "#if seven is a 3\n",
        "is_3(a_7), is_3(a_7).float()"
      ],
      "metadata": {
        "colab": {
          "base_uri": "https://localhost:8080/"
        },
        "id": "DrEPFhFLQ_GF",
        "outputId": "d06473dc-4713-4cd2-e515-7d55e9a0074a"
      },
      "execution_count": null,
      "outputs": [
        {
          "output_type": "execute_result",
          "data": {
            "text/plain": [
              "(tensor(False), tensor(0.))"
            ]
          },
          "metadata": {},
          "execution_count": 31
        }
      ]
    },
    {
      "cell_type": "code",
      "source": [
        "#if 8 is an 8\n",
        "is_8(a_8), is_8(a_8).float()"
      ],
      "metadata": {
        "colab": {
          "base_uri": "https://localhost:8080/"
        },
        "id": "5Q2JL9-VR7Eo",
        "outputId": "3e974810-57f6-48c6-82ac-afeed5104e0d"
      },
      "execution_count": null,
      "outputs": [
        {
          "output_type": "execute_result",
          "data": {
            "text/plain": [
              "(tensor(True), tensor(1.))"
            ]
          },
          "metadata": {},
          "execution_count": 32
        }
      ]
    },
    {
      "cell_type": "markdown",
      "source": [
        "Testing the full validation sets"
      ],
      "metadata": {
        "id": "rO8zU5voSJfi"
      }
    },
    {
      "cell_type": "code",
      "source": [
        "#threes\n",
        "is_3(valid_3_tens)"
      ],
      "metadata": {
        "colab": {
          "base_uri": "https://localhost:8080/"
        },
        "id": "IMYGcNwbSMi-",
        "outputId": "83e80198-ab18-444b-ccf6-0f75febb1139"
      },
      "execution_count": null,
      "outputs": [
        {
          "output_type": "execute_result",
          "data": {
            "text/plain": [
              "tensor([ True,  True, False,  ...,  True,  True,  True])"
            ]
          },
          "metadata": {},
          "execution_count": 33
        }
      ]
    },
    {
      "cell_type": "code",
      "source": [
        "#eights\n",
        "is_8(valid_3_tens)"
      ],
      "metadata": {
        "colab": {
          "base_uri": "https://localhost:8080/"
        },
        "id": "NfavbzRASSme",
        "outputId": "e4ceb008-d5a1-49bd-d740-a18217102061"
      },
      "execution_count": null,
      "outputs": [
        {
          "output_type": "execute_result",
          "data": {
            "text/plain": [
              "tensor([ True,  True, False,  ..., False,  True,  True])"
            ]
          },
          "metadata": {},
          "execution_count": 34
        }
      ]
    },
    {
      "cell_type": "code",
      "source": [
        "#sevens\n",
        "is_7(valid_7_tens)"
      ],
      "metadata": {
        "colab": {
          "base_uri": "https://localhost:8080/"
        },
        "id": "qVQUehuDScgM",
        "outputId": "31a68660-c693-4c0f-a387-e4bde6c7fb57"
      },
      "execution_count": null,
      "outputs": [
        {
          "output_type": "execute_result",
          "data": {
            "text/plain": [
              "tensor([True, True, True,  ..., True, True, True])"
            ]
          },
          "metadata": {},
          "execution_count": 35
        }
      ]
    },
    {
      "cell_type": "code",
      "source": [
        "#ones\n",
        "is_1(valid_1_tens)"
      ],
      "metadata": {
        "colab": {
          "base_uri": "https://localhost:8080/"
        },
        "id": "O5RAMtCASh6d",
        "outputId": "2d818612-bf32-4886-a80f-3ac7cbc33d60"
      },
      "execution_count": null,
      "outputs": [
        {
          "output_type": "execute_result",
          "data": {
            "text/plain": [
              "tensor([True, True, True,  ..., True, True, True])"
            ]
          },
          "metadata": {},
          "execution_count": 36
        }
      ]
    },
    {
      "cell_type": "markdown",
      "source": [
        "**Calculating the accuracies**"
      ],
      "metadata": {
        "id": "vEGyuW3rSsTi"
      }
    },
    {
      "cell_type": "code",
      "source": [
        "#accuracy for ones on ones\n",
        "accuracy_1s =      is_1(valid_1_tens).float() .mean()\n",
        "accuracy_1s"
      ],
      "metadata": {
        "colab": {
          "base_uri": "https://localhost:8080/"
        },
        "id": "erwmf2oRSzQj",
        "outputId": "0ce89359-e72a-49bc-8159-d8602e6f5680"
      },
      "execution_count": null,
      "outputs": [
        {
          "output_type": "execute_result",
          "data": {
            "text/plain": [
              "tensor(0.9993)"
            ]
          },
          "metadata": {},
          "execution_count": 37
        }
      ]
    },
    {
      "cell_type": "code",
      "source": [
        "#accuracy for three on three\n",
        "accuracy_3s =      is_3(valid_3_tens).float() .mean()\n",
        "accuracy_3s"
      ],
      "metadata": {
        "colab": {
          "base_uri": "https://localhost:8080/"
        },
        "id": "2C_OzaTwubOf",
        "outputId": "3b9d86ed-e1b5-40f3-b001-0475cedecb00"
      },
      "execution_count": null,
      "outputs": [
        {
          "output_type": "execute_result",
          "data": {
            "text/plain": [
              "tensor(0.9022)"
            ]
          },
          "metadata": {},
          "execution_count": 38
        }
      ]
    },
    {
      "cell_type": "code",
      "source": [
        "#accuracy for sevens on sevens\n",
        "accuracy_7s =      is_7(valid_7_tens).float() .mean()\n",
        "accuracy_7s"
      ],
      "metadata": {
        "colab": {
          "base_uri": "https://localhost:8080/"
        },
        "id": "ZGB_TX0NS7fw",
        "outputId": "a18a0aba-a3dd-464b-a033-948a020d6558"
      },
      "execution_count": null,
      "outputs": [
        {
          "output_type": "execute_result",
          "data": {
            "text/plain": [
              "tensor(0.9984)"
            ]
          },
          "metadata": {},
          "execution_count": 39
        }
      ]
    },
    {
      "cell_type": "code",
      "source": [
        "#accuracy for eights on eights\n",
        "accuracy_8s =      is_8(valid_8_tens).float() .mean()\n",
        "accuracy_8s"
      ],
      "metadata": {
        "colab": {
          "base_uri": "https://localhost:8080/"
        },
        "id": "3OvG64zVS88u",
        "outputId": "935b643e-ccf0-4253-a812-6abfb1893fa9"
      },
      "execution_count": null,
      "outputs": [
        {
          "output_type": "execute_result",
          "data": {
            "text/plain": [
              "tensor(0.9052)"
            ]
          },
          "metadata": {},
          "execution_count": 40
        }
      ]
    },
    {
      "cell_type": "markdown",
      "source": [
        "testing acccuracies of values against other values"
      ],
      "metadata": {
        "id": "58NRrWM3l49P"
      }
    },
    {
      "cell_type": "code",
      "source": [
        "#accuracy for ones on eights\n",
        "accuracy_1s8 =      is_1(valid_8_tens).float() .mean()\n",
        "accuracy_1s8"
      ],
      "metadata": {
        "colab": {
          "base_uri": "https://localhost:8080/"
        },
        "id": "4sOxB194S9rN",
        "outputId": "2102f8ab-49fd-4855-f7b5-03448fcf4aba"
      },
      "execution_count": null,
      "outputs": [
        {
          "output_type": "execute_result",
          "data": {
            "text/plain": [
              "tensor(0.8753)"
            ]
          },
          "metadata": {},
          "execution_count": 41
        }
      ]
    },
    {
      "cell_type": "code",
      "source": [
        "#accuracy for ones on sevens\n",
        "accuracy_1s7 =      is_1(valid_7_tens).float() .mean()\n",
        "accuracy_1s7"
      ],
      "metadata": {
        "colab": {
          "base_uri": "https://localhost:8080/"
        },
        "id": "HhXHIuixl_DS",
        "outputId": "ea12eda0-2b1b-4bd7-8df8-4b7d8e322a70"
      },
      "execution_count": null,
      "outputs": [
        {
          "output_type": "execute_result",
          "data": {
            "text/plain": [
              "tensor(0.1860)"
            ]
          },
          "metadata": {},
          "execution_count": 42
        }
      ]
    },
    {
      "cell_type": "code",
      "source": [
        "#accuracy for three on eights\n",
        "accuracy_3s8 =      is_3(valid_8_tens).float() .mean()\n",
        "accuracy_3s8"
      ],
      "metadata": {
        "colab": {
          "base_uri": "https://localhost:8080/"
        },
        "id": "QmYUmUF2mXto",
        "outputId": "04af47e9-8711-4665-af30-ea022a0e26fe"
      },
      "execution_count": null,
      "outputs": [
        {
          "output_type": "execute_result",
          "data": {
            "text/plain": [
              "tensor(0.5482)"
            ]
          },
          "metadata": {},
          "execution_count": 43
        }
      ]
    },
    {
      "cell_type": "code",
      "source": [
        "#accuracy for ones on sevens\n",
        "accuracy_7s8 =      is_7(valid_8_tens).float() .mean()\n",
        "accuracy_7s8"
      ],
      "metadata": {
        "colab": {
          "base_uri": "https://localhost:8080/"
        },
        "id": "d2U_rfatmozV",
        "outputId": "6712fa35-ae9a-47b2-d862-06f95d9eb8b9"
      },
      "execution_count": null,
      "outputs": [
        {
          "output_type": "execute_result",
          "data": {
            "text/plain": [
              "tensor(0.4518)"
            ]
          },
          "metadata": {},
          "execution_count": 44
        }
      ]
    },
    {
      "cell_type": "markdown",
      "source": [
        "**Accuracy of the classifier for the test set**"
      ],
      "metadata": {
        "id": "rpftTITqdNcM"
      }
    },
    {
      "cell_type": "code",
      "source": [
        "#accuracy for ones on ones\n",
        "accuracy_1s_test =is_1(test_1_tens).float() .mean()\n",
        "accuracy_1s_test"
      ],
      "metadata": {
        "colab": {
          "base_uri": "https://localhost:8080/"
        },
        "id": "qlsK_YFWdYpY",
        "outputId": "9b59dfb0-35de-4b34-b33d-fc82e4bf087b"
      },
      "execution_count": null,
      "outputs": [
        {
          "output_type": "execute_result",
          "data": {
            "text/plain": [
              "tensor(1.)"
            ]
          },
          "metadata": {},
          "execution_count": 45
        }
      ]
    },
    {
      "cell_type": "code",
      "source": [
        "#accuracy for eights on eights\n",
        "accuracy_8s_test =is_8(test_8_tens).float() .mean()\n",
        "accuracy_8s_test"
      ],
      "metadata": {
        "colab": {
          "base_uri": "https://localhost:8080/"
        },
        "id": "qZF6LH1CjoRd",
        "outputId": "afc5c4cc-bead-4dca-ea80-111adf7466b7"
      },
      "execution_count": null,
      "outputs": [
        {
          "output_type": "execute_result",
          "data": {
            "text/plain": [
              "tensor(0.9055)"
            ]
          },
          "metadata": {},
          "execution_count": 46
        }
      ]
    },
    {
      "cell_type": "code",
      "source": [
        "#accuracy for three on threes\n",
        "accuracy_3s_test =is_3(test_3_tens).float() .mean()\n",
        "accuracy_3s_test"
      ],
      "metadata": {
        "colab": {
          "base_uri": "https://localhost:8080/"
        },
        "id": "UyMndAS1jn55",
        "outputId": "a06b2610-9cc4-40bd-965e-fc51d132e9d7"
      },
      "execution_count": null,
      "outputs": [
        {
          "output_type": "execute_result",
          "data": {
            "text/plain": [
              "tensor(0.9168)"
            ]
          },
          "metadata": {},
          "execution_count": 47
        }
      ]
    },
    {
      "cell_type": "code",
      "source": [
        "#accuracy for sevens on sevens\n",
        "accuracy_7s_test =is_7(test_7_tens).float() .mean()\n",
        "accuracy_7s_test"
      ],
      "metadata": {
        "colab": {
          "base_uri": "https://localhost:8080/"
        },
        "id": "bgE1OYJZjnjz",
        "outputId": "e9b70fec-4cac-4fec-f499-c88b1d46a6b0"
      },
      "execution_count": null,
      "outputs": [
        {
          "output_type": "execute_result",
          "data": {
            "text/plain": [
              "tensor(0.9854)"
            ]
          },
          "metadata": {},
          "execution_count": 48
        }
      ]
    },
    {
      "cell_type": "markdown",
      "source": [
        "testings value accuracies against other values"
      ],
      "metadata": {
        "id": "yCU7EY0CnETk"
      }
    },
    {
      "cell_type": "code",
      "source": [
        "#accuracy for ones on eights\n",
        "accuracy_1s8_test =      is_1(test_8_tens).float() .mean()\n",
        "accuracy_1s8_test"
      ],
      "metadata": {
        "colab": {
          "base_uri": "https://localhost:8080/"
        },
        "id": "RIpA_ZosnIWc",
        "outputId": "f43539d8-ee02-4def-8f58-3c7e6c9c54da"
      },
      "execution_count": null,
      "outputs": [
        {
          "output_type": "execute_result",
          "data": {
            "text/plain": [
              "tensor(0.8439)"
            ]
          },
          "metadata": {},
          "execution_count": 49
        }
      ]
    },
    {
      "cell_type": "code",
      "source": [
        "#accuracy for ones on sevens\n",
        "accuracy_1s7_test =      is_1(test_7_tens).float() .mean()\n",
        "accuracy_1s7_test"
      ],
      "metadata": {
        "colab": {
          "base_uri": "https://localhost:8080/"
        },
        "id": "B0uqLXfCnRNp",
        "outputId": "103026e0-5340-4279-b2aa-63c34dda8678"
      },
      "execution_count": null,
      "outputs": [
        {
          "output_type": "execute_result",
          "data": {
            "text/plain": [
              "tensor(0.2062)"
            ]
          },
          "metadata": {},
          "execution_count": 50
        }
      ]
    },
    {
      "cell_type": "code",
      "source": [
        "#accuracy for three on eights\n",
        "accuracy_3s8_test =      is_3(test_8_tens).float() .mean()\n",
        "accuracy_3s8_test"
      ],
      "metadata": {
        "colab": {
          "base_uri": "https://localhost:8080/"
        },
        "id": "5GRToBS6nZaB",
        "outputId": "89d96907-903e-485c-83d1-550d684fb414"
      },
      "execution_count": null,
      "outputs": [
        {
          "output_type": "execute_result",
          "data": {
            "text/plain": [
              "tensor(0.5729)"
            ]
          },
          "metadata": {},
          "execution_count": 51
        }
      ]
    },
    {
      "cell_type": "code",
      "source": [
        "#accuracy for ones on sevens\n",
        "accuracy_7s8_test =      is_7(test_8_tens).float() .mean()\n",
        "accuracy_7s8_test"
      ],
      "metadata": {
        "colab": {
          "base_uri": "https://localhost:8080/"
        },
        "id": "Cd3xvjIynbSJ",
        "outputId": "c66b93d6-173d-4738-9d88-416c213e5e8d"
      },
      "execution_count": null,
      "outputs": [
        {
          "output_type": "execute_result",
          "data": {
            "text/plain": [
              "tensor(0.4271)"
            ]
          },
          "metadata": {},
          "execution_count": 52
        }
      ]
    }
  ]
}