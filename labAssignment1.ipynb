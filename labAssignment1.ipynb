{
  "nbformat": 4,
  "nbformat_minor": 0,
  "metadata": {
    "colab": {
      "name": "labAssignment1.ipynb",
      "provenance": [],
      "authorship_tag": "ABX9TyOMMxhbOVrFTtqMZnoJOvb/",
      "include_colab_link": true
    },
    "kernelspec": {
      "name": "python3",
      "display_name": "Python 3"
    },
    "language_info": {
      "name": "python"
    },
    "accelerator": "GPU"
  },
  "cells": [
    {
      "cell_type": "markdown",
      "metadata": {
        "id": "view-in-github",
        "colab_type": "text"
      },
      "source": [
        "<a href=\"https://colab.research.google.com/github/savagenashe/gdsc/blob/main/labAssignment1.ipynb\" target=\"_parent\"><img src=\"https://colab.research.google.com/assets/colab-badge.svg\" alt=\"Open In Colab\"/></a>"
      ]
    },
    {
      "cell_type": "code",
      "execution_count": 4,
      "metadata": {
        "colab": {
          "base_uri": "https://localhost:8080/"
        },
        "id": "l6dN6Qa_J8QR",
        "outputId": "dbb978c1-1af6-4243-cf2e-ed4bea785744"
      },
      "outputs": [
        {
          "output_type": "stream",
          "name": "stdout",
          "text": [
            "\u001b[K     |████████████████████████████████| 720 kB 5.2 MB/s \n",
            "\u001b[K     |████████████████████████████████| 46 kB 4.1 MB/s \n",
            "\u001b[K     |████████████████████████████████| 1.2 MB 40.8 MB/s \n",
            "\u001b[K     |████████████████████████████████| 189 kB 47.4 MB/s \n",
            "\u001b[K     |████████████████████████████████| 56 kB 4.4 MB/s \n",
            "\u001b[K     |████████████████████████████████| 51 kB 295 kB/s \n",
            "\u001b[?25hMounted at /content/gdrive\n"
          ]
        }
      ],
      "source": [
        "#hide\n",
        "!pip install -Uqq fastbook\n",
        "import fastbook\n",
        "fastbook.setup_book()"
      ]
    },
    {
      "cell_type": "code",
      "source": [
        "#hide\n",
        "from fastai.vision.all import *\n",
        "from fastbook import *\n",
        "\n",
        "matplotlib.rc('image', cmap='Greys')"
      ],
      "metadata": {
        "id": "9LZseBW1KRiP"
      },
      "execution_count": 5,
      "outputs": []
    },
    {
      "cell_type": "markdown",
      "source": [
        "\n",
        "**Downloading the dataset**\n",
        "\n"
      ],
      "metadata": {
        "id": "UuNnz8RfKiQ7"
      }
    },
    {
      "cell_type": "code",
      "source": [
        "path = untar_data(URLs.MNIST)"
      ],
      "metadata": {
        "colab": {
          "base_uri": "https://localhost:8080/",
          "height": 37
        },
        "id": "wFErS6L5Kqj4",
        "outputId": "8a9da263-93af-42cd-eabe-9c8971fe8d2e"
      },
      "execution_count": 6,
      "outputs": [
        {
          "output_type": "display_data",
          "data": {
            "text/html": [
              "\n",
              "    <div>\n",
              "        <style>\n",
              "            /* Turns off some styling */\n",
              "            progress {\n",
              "                /* gets rid of default border in Firefox and Opera. */\n",
              "                border: none;\n",
              "                /* Needs to be in here for Safari polyfill so background images work as expected. */\n",
              "                background-size: auto;\n",
              "            }\n",
              "            .progress-bar-interrupted, .progress-bar-interrupted::-webkit-progress-bar {\n",
              "                background: #F44336;\n",
              "            }\n",
              "        </style>\n",
              "      <progress value='15687680' class='' max='15683414' style='width:300px; height:20px; vertical-align: middle;'></progress>\n",
              "      100.03% [15687680/15683414 00:00<00:00]\n",
              "    </div>\n",
              "    "
            ],
            "text/plain": [
              "<IPython.core.display.HTML object>"
            ]
          },
          "metadata": {}
        }
      ]
    },
    {
      "cell_type": "code",
      "source": [
        "#hide\n",
        "Path.BASE_PATH = path"
      ],
      "metadata": {
        "id": "qmbXjkhSK0OA"
      },
      "execution_count": 7,
      "outputs": []
    },
    {
      "cell_type": "markdown",
      "source": [
        "**Listing all the files in the dataset**"
      ],
      "metadata": {
        "id": "atuD83cwLB4G"
      }
    },
    {
      "cell_type": "code",
      "source": [
        "path.ls()"
      ],
      "metadata": {
        "colab": {
          "base_uri": "https://localhost:8080/"
        },
        "id": "1UiVNHEhLH70",
        "outputId": "7b3cfcf6-2673-475c-d966-d0737107909a"
      },
      "execution_count": 8,
      "outputs": [
        {
          "output_type": "execute_result",
          "data": {
            "text/plain": [
              "(#2) [Path('training'),Path('testing')]"
            ]
          },
          "metadata": {},
          "execution_count": 8
        }
      ]
    },
    {
      "cell_type": "code",
      "source": [
        "(path/'training').ls()"
      ],
      "metadata": {
        "colab": {
          "base_uri": "https://localhost:8080/"
        },
        "id": "n__kyVk-LOeY",
        "outputId": "b2ca0482-ab0c-4ab6-f2ae-ee4d91efb3a6"
      },
      "execution_count": 9,
      "outputs": [
        {
          "output_type": "execute_result",
          "data": {
            "text/plain": [
              "(#10) [Path('training/5'),Path('training/8'),Path('training/4'),Path('training/2'),Path('training/1'),Path('training/0'),Path('training/7'),Path('training/3'),Path('training/9'),Path('training/6')]"
            ]
          },
          "metadata": {},
          "execution_count": 9
        }
      ]
    },
    {
      "cell_type": "markdown",
      "source": [
        "Taking a look at the 3,1,8 and 7s only"
      ],
      "metadata": {
        "id": "Bfzy-P6NN2ew"
      }
    },
    {
      "cell_type": "code",
      "source": [
        "threes = (path/'training/3').ls().sorted()\n",
        "eights = (path/'training/8').ls().sorted()\n",
        "ones = (path/'training/1').ls().sorted()\n",
        "sevens = (path/'training/7').ls().sorted()\n",
        "threes"
      ],
      "metadata": {
        "colab": {
          "base_uri": "https://localhost:8080/"
        },
        "id": "Pz1zalTzNf6A",
        "outputId": "2b5d6cd4-64e1-4d84-864f-676c5f268172"
      },
      "execution_count": 11,
      "outputs": [
        {
          "output_type": "execute_result",
          "data": {
            "text/plain": [
              "(#6131) [Path('training/3/10.png'),Path('training/3/10000.png'),Path('training/3/10011.png'),Path('training/3/10031.png'),Path('training/3/10034.png'),Path('training/3/10042.png'),Path('training/3/10052.png'),Path('training/3/1007.png'),Path('training/3/10074.png'),Path('training/3/10091.png')...]"
            ]
          },
          "metadata": {},
          "execution_count": 11
        }
      ]
    },
    {
      "cell_type": "markdown",
      "source": [
        "Taking a look at one image"
      ],
      "metadata": {
        "id": "GTx4r1nIPOHK"
      }
    },
    {
      "cell_type": "code",
      "source": [
        "im8_path = eights[1]\n",
        "im8 = Image.open(im8_path)\n",
        "im8"
      ],
      "metadata": {
        "colab": {
          "base_uri": "https://localhost:8080/",
          "height": 45
        },
        "id": "DIJLzajwPK-8",
        "outputId": "1a10dade-916a-4c1e-f979-2424d3ee17ff"
      },
      "execution_count": 12,
      "outputs": [
        {
          "output_type": "execute_result",
          "data": {
            "image/png": "[encoded data removed]",
            "text/plain": [
              "<PIL.PngImagePlugin.PngImageFile image mode=L size=28x28 at 0x7F5BD5E01150>"
            ]
          },
          "metadata": {},
          "execution_count": 12
        }
      ]
    },
    {
      "cell_type": "markdown",
      "source": [
        "displaying the numpy array of the above image"
      ],
      "metadata": {
        "id": "1u8YuZvVPpwB"
      }
    },
    {
      "cell_type": "code",
      "source": [
        "array(im8)[4:10,4:10]"
      ],
      "metadata": {
        "colab": {
          "base_uri": "https://localhost:8080/"
        },
        "id": "5N8LNefBPv8Y",
        "outputId": "1333598e-a800-4374-8355-b4c6a1577529"
      },
      "execution_count": 13,
      "outputs": [
        {
          "output_type": "execute_result",
          "data": {
            "text/plain": [
              "array([[  0,   0,   0,   0,   0,   0],\n",
              "       [  0,  58, 125, 245, 187, 254],\n",
              "       [  0, 118, 253, 253, 253, 253],\n",
              "       [  0, 242, 253, 253, 253, 253],\n",
              "       [  0, 194, 253, 253, 253, 253],\n",
              "       [  0,  73, 198, 253, 253, 253]], dtype=uint8)"
            ]
          },
          "metadata": {},
          "execution_count": 13
        }
      ]
    },
    {
      "cell_type": "code",
      "source": [
        "tensor(im8)[4:10,4:10]"
      ],
      "metadata": {
        "colab": {
          "base_uri": "https://localhost:8080/"
        },
        "id": "4G_tyYrSQDHx",
        "outputId": "f6c8bb98-58f3-4506-d45c-edfd149a3277"
      },
      "execution_count": 14,
      "outputs": [
        {
          "output_type": "execute_result",
          "data": {
            "text/plain": [
              "tensor([[  0,   0,   0,   0,   0,   0],\n",
              "        [  0,  58, 125, 245, 187, 254],\n",
              "        [  0, 118, 253, 253, 253, 253],\n",
              "        [  0, 242, 253, 253, 253, 253],\n",
              "        [  0, 194, 253, 253, 253, 253],\n",
              "        [  0,  73, 198, 253, 253, 253]], dtype=torch.uint8)"
            ]
          },
          "metadata": {},
          "execution_count": 14
        }
      ]
    },
    {
      "cell_type": "markdown",
      "source": [
        "showing the pixel values of the image using Pandas DataFrame"
      ],
      "metadata": {
        "id": "HlRzMJtmQPCU"
      }
    },
    {
      "cell_type": "code",
      "source": [
        "im8_t = tensor(im8)\n",
        "df = pd.DataFrame(im8_t[4:15,4:22])\n",
        "df.style.set_properties(**{'font-size':'6pt'}).background_gradient('Greys')\n"
      ],
      "metadata": {
        "colab": {
          "base_uri": "https://localhost:8080/",
          "height": 394
        },
        "id": "j24dE64PQVPr",
        "outputId": "eedf993e-5198-45aa-9771-f0d8a1637968"
      },
      "execution_count": 15,
      "outputs": [
        {
          "output_type": "execute_result",
          "data": {
            "text/html": [
              "<style  type=\"text/css\" >\n",
              "#T_12db5d48_81d4_11ec_8495_0242ac1c0002row0_col0,#T_12db5d48_81d4_11ec_8495_0242ac1c0002row0_col1,#T_12db5d48_81d4_11ec_8495_0242ac1c0002row0_col2,#T_12db5d48_81d4_11ec_8495_0242ac1c0002row0_col3,#T_12db5d48_81d4_11ec_8495_0242ac1c0002row0_col4,#T_12db5d48_81d4_11ec_8495_0242ac1c0002row0_col5,#T_12db5d48_81d4_11ec_8495_0242ac1c0002row0_col6,#T_12db5d48_81d4_11ec_8495_0242ac1c0002row0_col7,#T_12db5d48_81d4_11ec_8495_0242ac1c0002row0_col8,#T_12db5d48_81d4_11ec_8495_0242ac1c0002row0_col9,#T_12db5d48_81d4_11ec_8495_0242ac1c0002row0_col10,#T_12db5d48_81d4_11ec_8495_0242ac1c0002row0_col11,#T_12db5d48_81d4_11ec_8495_0242ac1c0002row0_col12,#T_12db5d48_81d4_11ec_8495_0242ac1c0002row0_col13,#T_12db5d48_81d4_11ec_8495_0242ac1c0002row0_col14,#T_12db5d48_81d4_11ec_8495_0242ac1c0002row0_col15,#T_12db5d48_81d4_11ec_8495_0242ac1c0002row0_col16,#T_12db5d48_81d4_11ec_8495_0242ac1c0002row0_col17,#T_12db5d48_81d4_11ec_8495_0242ac1c0002row1_col0,#T_12db5d48_81d4_11ec_8495_0242ac1c0002row1_col12,#T_12db5d48_81d4_11ec_8495_0242ac1c0002row1_col13,#T_12db5d48_81d4_11ec_8495_0242ac1c0002row1_col14,#T_12db5d48_81d4_11ec_8495_0242ac1c0002row1_col15,#T_12db5d48_81d4_11ec_8495_0242ac1c0002row1_col16,#T_12db5d48_81d4_11ec_8495_0242ac1c0002row1_col17,#T_12db5d48_81d4_11ec_8495_0242ac1c0002row2_col0,#T_12db5d48_81d4_11ec_8495_0242ac1c0002row2_col13,#T_12db5d48_81d4_11ec_8495_0242ac1c0002row2_col14,#T_12db5d48_81d4_11ec_8495_0242ac1c0002row2_col15,#T_12db5d48_81d4_11ec_8495_0242ac1c0002row2_col16,#T_12db5d48_81d4_11ec_8495_0242ac1c0002row2_col17,#T_12db5d48_81d4_11ec_8495_0242ac1c0002row3_col0,#T_12db5d48_81d4_11ec_8495_0242ac1c0002row3_col14,#T_12db5d48_81d4_11ec_8495_0242ac1c0002row3_col15,#T_12db5d48_81d4_11ec_8495_0242ac1c0002row3_col16,#T_12db5d48_81d4_11ec_8495_0242ac1c0002row3_col17,#T_12db5d48_81d4_11ec_8495_0242ac1c0002row4_col0,#T_12db5d48_81d4_11ec_8495_0242ac1c0002row5_col0,#T_12db5d48_81d4_11ec_8495_0242ac1c0002row6_col0,#T_12db5d48_81d4_11ec_8495_0242ac1c0002row6_col1,#T_12db5d48_81d4_11ec_8495_0242ac1c0002row6_col17,#T_12db5d48_81d4_11ec_8495_0242ac1c0002row7_col0,#T_12db5d48_81d4_11ec_8495_0242ac1c0002row7_col1,#T_12db5d48_81d4_11ec_8495_0242ac1c0002row7_col2,#T_12db5d48_81d4_11ec_8495_0242ac1c0002row7_col3,#T_12db5d48_81d4_11ec_8495_0242ac1c0002row7_col14,#T_12db5d48_81d4_11ec_8495_0242ac1c0002row7_col15,#T_12db5d48_81d4_11ec_8495_0242ac1c0002row7_col16,#T_12db5d48_81d4_11ec_8495_0242ac1c0002row7_col17,#T_12db5d48_81d4_11ec_8495_0242ac1c0002row8_col0,#T_12db5d48_81d4_11ec_8495_0242ac1c0002row8_col1,#T_12db5d48_81d4_11ec_8495_0242ac1c0002row8_col2,#T_12db5d48_81d4_11ec_8495_0242ac1c0002row8_col3,#T_12db5d48_81d4_11ec_8495_0242ac1c0002row8_col4,#T_12db5d48_81d4_11ec_8495_0242ac1c0002row8_col5,#T_12db5d48_81d4_11ec_8495_0242ac1c0002row8_col14,#T_12db5d48_81d4_11ec_8495_0242ac1c0002row8_col15,#T_12db5d48_81d4_11ec_8495_0242ac1c0002row8_col16,#T_12db5d48_81d4_11ec_8495_0242ac1c0002row8_col17,#T_12db5d48_81d4_11ec_8495_0242ac1c0002row9_col0,#T_12db5d48_81d4_11ec_8495_0242ac1c0002row9_col1,#T_12db5d48_81d4_11ec_8495_0242ac1c0002row9_col2,#T_12db5d48_81d4_11ec_8495_0242ac1c0002row9_col3,#T_12db5d48_81d4_11ec_8495_0242ac1c0002row9_col4,#T_12db5d48_81d4_11ec_8495_0242ac1c0002row9_col16,#T_12db5d48_81d4_11ec_8495_0242ac1c0002row9_col17,#T_12db5d48_81d4_11ec_8495_0242ac1c0002row10_col0,#T_12db5d48_81d4_11ec_8495_0242ac1c0002row10_col1,#T_12db5d48_81d4_11ec_8495_0242ac1c0002row10_col2,#T_12db5d48_81d4_11ec_8495_0242ac1c0002row10_col3,#T_12db5d48_81d4_11ec_8495_0242ac1c0002row10_col9,#T_12db5d48_81d4_11ec_8495_0242ac1c0002row10_col10,#T_12db5d48_81d4_11ec_8495_0242ac1c0002row10_col17{\n",
              "            font-size:  6pt;\n",
              "            background-color:  #ffffff;\n",
              "            color:  #000000;\n",
              "        }#T_12db5d48_81d4_11ec_8495_0242ac1c0002row1_col1{\n",
              "            font-size:  6pt;\n",
              "            background-color:  #dbdbdb;\n",
              "            color:  #000000;\n",
              "        }#T_12db5d48_81d4_11ec_8495_0242ac1c0002row1_col2,#T_12db5d48_81d4_11ec_8495_0242ac1c0002row1_col8{\n",
              "            font-size:  6pt;\n",
              "            background-color:  #989898;\n",
              "            color:  #000000;\n",
              "        }#T_12db5d48_81d4_11ec_8495_0242ac1c0002row1_col3,#T_12db5d48_81d4_11ec_8495_0242ac1c0002row9_col13{\n",
              "            font-size:  6pt;\n",
              "            background-color:  #090909;\n",
              "            color:  #f1f1f1;\n",
              "        }#T_12db5d48_81d4_11ec_8495_0242ac1c0002row1_col4{\n",
              "            font-size:  6pt;\n",
              "            background-color:  #545454;\n",
              "            color:  #f1f1f1;\n",
              "        }#T_12db5d48_81d4_11ec_8495_0242ac1c0002row1_col5,#T_12db5d48_81d4_11ec_8495_0242ac1c0002row1_col6,#T_12db5d48_81d4_11ec_8495_0242ac1c0002row2_col2,#T_12db5d48_81d4_11ec_8495_0242ac1c0002row2_col3,#T_12db5d48_81d4_11ec_8495_0242ac1c0002row2_col4,#T_12db5d48_81d4_11ec_8495_0242ac1c0002row2_col7,#T_12db5d48_81d4_11ec_8495_0242ac1c0002row2_col8,#T_12db5d48_81d4_11ec_8495_0242ac1c0002row2_col9,#T_12db5d48_81d4_11ec_8495_0242ac1c0002row2_col10,#T_12db5d48_81d4_11ec_8495_0242ac1c0002row3_col1,#T_12db5d48_81d4_11ec_8495_0242ac1c0002row3_col2,#T_12db5d48_81d4_11ec_8495_0242ac1c0002row3_col3,#T_12db5d48_81d4_11ec_8495_0242ac1c0002row3_col4,#T_12db5d48_81d4_11ec_8495_0242ac1c0002row3_col7,#T_12db5d48_81d4_11ec_8495_0242ac1c0002row3_col8,#T_12db5d48_81d4_11ec_8495_0242ac1c0002row3_col9,#T_12db5d48_81d4_11ec_8495_0242ac1c0002row3_col10,#T_12db5d48_81d4_11ec_8495_0242ac1c0002row3_col11,#T_12db5d48_81d4_11ec_8495_0242ac1c0002row4_col2,#T_12db5d48_81d4_11ec_8495_0242ac1c0002row4_col3,#T_12db5d48_81d4_11ec_8495_0242ac1c0002row4_col4,#T_12db5d48_81d4_11ec_8495_0242ac1c0002row4_col11,#T_12db5d48_81d4_11ec_8495_0242ac1c0002row4_col12,#T_12db5d48_81d4_11ec_8495_0242ac1c0002row4_col16,#T_12db5d48_81d4_11ec_8495_0242ac1c0002row5_col3,#T_12db5d48_81d4_11ec_8495_0242ac1c0002row5_col4,#T_12db5d48_81d4_11ec_8495_0242ac1c0002row5_col11,#T_12db5d48_81d4_11ec_8495_0242ac1c0002row5_col12,#T_12db5d48_81d4_11ec_8495_0242ac1c0002row5_col13,#T_12db5d48_81d4_11ec_8495_0242ac1c0002row5_col14,#T_12db5d48_81d4_11ec_8495_0242ac1c0002row5_col15,#T_12db5d48_81d4_11ec_8495_0242ac1c0002row5_col17,#T_12db5d48_81d4_11ec_8495_0242ac1c0002row6_col7,#T_12db5d48_81d4_11ec_8495_0242ac1c0002row6_col10,#T_12db5d48_81d4_11ec_8495_0242ac1c0002row6_col11,#T_12db5d48_81d4_11ec_8495_0242ac1c0002row6_col12,#T_12db5d48_81d4_11ec_8495_0242ac1c0002row7_col7,#T_12db5d48_81d4_11ec_8495_0242ac1c0002row7_col8,#T_12db5d48_81d4_11ec_8495_0242ac1c0002row7_col9,#T_12db5d48_81d4_11ec_8495_0242ac1c0002row7_col10,#T_12db5d48_81d4_11ec_8495_0242ac1c0002row7_col11,#T_12db5d48_81d4_11ec_8495_0242ac1c0002row7_col12,#T_12db5d48_81d4_11ec_8495_0242ac1c0002row8_col7,#T_12db5d48_81d4_11ec_8495_0242ac1c0002row8_col8,#T_12db5d48_81d4_11ec_8495_0242ac1c0002row8_col9,#T_12db5d48_81d4_11ec_8495_0242ac1c0002row8_col10,#T_12db5d48_81d4_11ec_8495_0242ac1c0002row8_col11,#T_12db5d48_81d4_11ec_8495_0242ac1c0002row8_col12,#T_12db5d48_81d4_11ec_8495_0242ac1c0002row9_col7,#T_12db5d48_81d4_11ec_8495_0242ac1c0002row9_col12,#T_12db5d48_81d4_11ec_8495_0242ac1c0002row10_col13,#T_12db5d48_81d4_11ec_8495_0242ac1c0002row10_col14{\n",
              "            font-size:  6pt;\n",
              "            background-color:  #000000;\n",
              "            color:  #f1f1f1;\n",
              "        }#T_12db5d48_81d4_11ec_8495_0242ac1c0002row1_col7{\n",
              "            font-size:  6pt;\n",
              "            background-color:  #2f2f2f;\n",
              "            color:  #f1f1f1;\n",
              "        }#T_12db5d48_81d4_11ec_8495_0242ac1c0002row1_col9{\n",
              "            font-size:  6pt;\n",
              "            background-color:  #212121;\n",
              "            color:  #f1f1f1;\n",
              "        }#T_12db5d48_81d4_11ec_8495_0242ac1c0002row1_col10{\n",
              "            font-size:  6pt;\n",
              "            background-color:  #757575;\n",
              "            color:  #000000;\n",
              "        }#T_12db5d48_81d4_11ec_8495_0242ac1c0002row1_col11{\n",
              "            font-size:  6pt;\n",
              "            background-color:  #eeeeee;\n",
              "            color:  #000000;\n",
              "        }#T_12db5d48_81d4_11ec_8495_0242ac1c0002row2_col1{\n",
              "            font-size:  6pt;\n",
              "            background-color:  #9a9a9a;\n",
              "            color:  #000000;\n",
              "        }#T_12db5d48_81d4_11ec_8495_0242ac1c0002row2_col5,#T_12db5d48_81d4_11ec_8495_0242ac1c0002row3_col5,#T_12db5d48_81d4_11ec_8495_0242ac1c0002row4_col5,#T_12db5d48_81d4_11ec_8495_0242ac1c0002row5_col5,#T_12db5d48_81d4_11ec_8495_0242ac1c0002row6_col5{\n",
              "            font-size:  6pt;\n",
              "            background-color:  #010101;\n",
              "            color:  #f1f1f1;\n",
              "        }#T_12db5d48_81d4_11ec_8495_0242ac1c0002row2_col6,#T_12db5d48_81d4_11ec_8495_0242ac1c0002row3_col6,#T_12db5d48_81d4_11ec_8495_0242ac1c0002row3_col12,#T_12db5d48_81d4_11ec_8495_0242ac1c0002row6_col6,#T_12db5d48_81d4_11ec_8495_0242ac1c0002row10_col6{\n",
              "            font-size:  6pt;\n",
              "            background-color:  #020202;\n",
              "            color:  #f1f1f1;\n",
              "        }#T_12db5d48_81d4_11ec_8495_0242ac1c0002row2_col11{\n",
              "            font-size:  6pt;\n",
              "            background-color:  #050505;\n",
              "            color:  #f1f1f1;\n",
              "        }#T_12db5d48_81d4_11ec_8495_0242ac1c0002row2_col12{\n",
              "            font-size:  6pt;\n",
              "            background-color:  #8c8c8c;\n",
              "            color:  #000000;\n",
              "        }#T_12db5d48_81d4_11ec_8495_0242ac1c0002row3_col13{\n",
              "            font-size:  6pt;\n",
              "            background-color:  #8a8a8a;\n",
              "            color:  #000000;\n",
              "        }#T_12db5d48_81d4_11ec_8495_0242ac1c0002row4_col1{\n",
              "            font-size:  6pt;\n",
              "            background-color:  #3f3f3f;\n",
              "            color:  #f1f1f1;\n",
              "        }#T_12db5d48_81d4_11ec_8495_0242ac1c0002row4_col6{\n",
              "            font-size:  6pt;\n",
              "            background-color:  #aeaeae;\n",
              "            color:  #000000;\n",
              "        }#T_12db5d48_81d4_11ec_8495_0242ac1c0002row4_col7{\n",
              "            font-size:  6pt;\n",
              "            background-color:  #f6f6f6;\n",
              "            color:  #000000;\n",
              "        }#T_12db5d48_81d4_11ec_8495_0242ac1c0002row4_col8{\n",
              "            font-size:  6pt;\n",
              "            background-color:  #dfdfdf;\n",
              "            color:  #000000;\n",
              "        }#T_12db5d48_81d4_11ec_8495_0242ac1c0002row4_col9{\n",
              "            font-size:  6pt;\n",
              "            background-color:  #e4e4e4;\n",
              "            color:  #000000;\n",
              "        }#T_12db5d48_81d4_11ec_8495_0242ac1c0002row4_col10{\n",
              "            font-size:  6pt;\n",
              "            background-color:  #878787;\n",
              "            color:  #000000;\n",
              "        }#T_12db5d48_81d4_11ec_8495_0242ac1c0002row4_col13{\n",
              "            font-size:  6pt;\n",
              "            background-color:  #030303;\n",
              "            color:  #f1f1f1;\n",
              "        }#T_12db5d48_81d4_11ec_8495_0242ac1c0002row4_col14,#T_12db5d48_81d4_11ec_8495_0242ac1c0002row4_col15{\n",
              "            font-size:  6pt;\n",
              "            background-color:  #151515;\n",
              "            color:  #f1f1f1;\n",
              "        }#T_12db5d48_81d4_11ec_8495_0242ac1c0002row4_col17{\n",
              "            font-size:  6pt;\n",
              "            background-color:  #656565;\n",
              "            color:  #f1f1f1;\n",
              "        }#T_12db5d48_81d4_11ec_8495_0242ac1c0002row5_col1{\n",
              "            font-size:  6pt;\n",
              "            background-color:  #cdcdcd;\n",
              "            color:  #000000;\n",
              "        }#T_12db5d48_81d4_11ec_8495_0242ac1c0002row5_col2{\n",
              "            font-size:  6pt;\n",
              "            background-color:  #464646;\n",
              "            color:  #f1f1f1;\n",
              "        }#T_12db5d48_81d4_11ec_8495_0242ac1c0002row5_col6{\n",
              "            font-size:  6pt;\n",
              "            background-color:  #0c0c0c;\n",
              "            color:  #f1f1f1;\n",
              "        }#T_12db5d48_81d4_11ec_8495_0242ac1c0002row5_col7{\n",
              "            font-size:  6pt;\n",
              "            background-color:  #535353;\n",
              "            color:  #f1f1f1;\n",
              "        }#T_12db5d48_81d4_11ec_8495_0242ac1c0002row5_col8{\n",
              "            font-size:  6pt;\n",
              "            background-color:  #d3d3d3;\n",
              "            color:  #000000;\n",
              "        }#T_12db5d48_81d4_11ec_8495_0242ac1c0002row5_col9{\n",
              "            font-size:  6pt;\n",
              "            background-color:  #cecece;\n",
              "            color:  #000000;\n",
              "        }#T_12db5d48_81d4_11ec_8495_0242ac1c0002row5_col10{\n",
              "            font-size:  6pt;\n",
              "            background-color:  #414141;\n",
              "            color:  #f1f1f1;\n",
              "        }#T_12db5d48_81d4_11ec_8495_0242ac1c0002row5_col16{\n",
              "            font-size:  6pt;\n",
              "            background-color:  #282828;\n",
              "            color:  #f1f1f1;\n",
              "        }#T_12db5d48_81d4_11ec_8495_0242ac1c0002row6_col2,#T_12db5d48_81d4_11ec_8495_0242ac1c0002row6_col16,#T_12db5d48_81d4_11ec_8495_0242ac1c0002row7_col4{\n",
              "            font-size:  6pt;\n",
              "            background-color:  #f8f8f8;\n",
              "            color:  #000000;\n",
              "        }#T_12db5d48_81d4_11ec_8495_0242ac1c0002row6_col3,#T_12db5d48_81d4_11ec_8495_0242ac1c0002row7_col5{\n",
              "            font-size:  6pt;\n",
              "            background-color:  #7a7a7a;\n",
              "            color:  #000000;\n",
              "        }#T_12db5d48_81d4_11ec_8495_0242ac1c0002row6_col4{\n",
              "            font-size:  6pt;\n",
              "            background-color:  #474747;\n",
              "            color:  #f1f1f1;\n",
              "        }#T_12db5d48_81d4_11ec_8495_0242ac1c0002row6_col8{\n",
              "            font-size:  6pt;\n",
              "            background-color:  #0a0a0a;\n",
              "            color:  #f1f1f1;\n",
              "        }#T_12db5d48_81d4_11ec_8495_0242ac1c0002row6_col9{\n",
              "            font-size:  6pt;\n",
              "            background-color:  #080808;\n",
              "            color:  #f1f1f1;\n",
              "        }#T_12db5d48_81d4_11ec_8495_0242ac1c0002row6_col13{\n",
              "            font-size:  6pt;\n",
              "            background-color:  #101010;\n",
              "            color:  #f1f1f1;\n",
              "        }#T_12db5d48_81d4_11ec_8495_0242ac1c0002row6_col14{\n",
              "            font-size:  6pt;\n",
              "            background-color:  #6f6f6f;\n",
              "            color:  #000000;\n",
              "        }#T_12db5d48_81d4_11ec_8495_0242ac1c0002row6_col15{\n",
              "            font-size:  6pt;\n",
              "            background-color:  #c9c9c9;\n",
              "            color:  #000000;\n",
              "        }#T_12db5d48_81d4_11ec_8495_0242ac1c0002row7_col6{\n",
              "            font-size:  6pt;\n",
              "            background-color:  #111111;\n",
              "            color:  #f1f1f1;\n",
              "        }#T_12db5d48_81d4_11ec_8495_0242ac1c0002row7_col13{\n",
              "            font-size:  6pt;\n",
              "            background-color:  #666666;\n",
              "            color:  #f1f1f1;\n",
              "        }#T_12db5d48_81d4_11ec_8495_0242ac1c0002row8_col6{\n",
              "            font-size:  6pt;\n",
              "            background-color:  #303030;\n",
              "            color:  #f1f1f1;\n",
              "        }#T_12db5d48_81d4_11ec_8495_0242ac1c0002row8_col13{\n",
              "            font-size:  6pt;\n",
              "            background-color:  #505050;\n",
              "            color:  #f1f1f1;\n",
              "        }#T_12db5d48_81d4_11ec_8495_0242ac1c0002row9_col5,#T_12db5d48_81d4_11ec_8495_0242ac1c0002row10_col4{\n",
              "            font-size:  6pt;\n",
              "            background-color:  #f3f3f3;\n",
              "            color:  #000000;\n",
              "        }#T_12db5d48_81d4_11ec_8495_0242ac1c0002row9_col6{\n",
              "            font-size:  6pt;\n",
              "            background-color:  #222222;\n",
              "            color:  #f1f1f1;\n",
              "        }#T_12db5d48_81d4_11ec_8495_0242ac1c0002row9_col8,#T_12db5d48_81d4_11ec_8495_0242ac1c0002row9_col11,#T_12db5d48_81d4_11ec_8495_0242ac1c0002row10_col7{\n",
              "            font-size:  6pt;\n",
              "            background-color:  #171717;\n",
              "            color:  #f1f1f1;\n",
              "        }#T_12db5d48_81d4_11ec_8495_0242ac1c0002row9_col9{\n",
              "            font-size:  6pt;\n",
              "            background-color:  #cacaca;\n",
              "            color:  #000000;\n",
              "        }#T_12db5d48_81d4_11ec_8495_0242ac1c0002row9_col10{\n",
              "            font-size:  6pt;\n",
              "            background-color:  #7e7e7e;\n",
              "            color:  #000000;\n",
              "        }#T_12db5d48_81d4_11ec_8495_0242ac1c0002row9_col14{\n",
              "            font-size:  6pt;\n",
              "            background-color:  #565656;\n",
              "            color:  #f1f1f1;\n",
              "        }#T_12db5d48_81d4_11ec_8495_0242ac1c0002row9_col15{\n",
              "            font-size:  6pt;\n",
              "            background-color:  #f2f2f2;\n",
              "            color:  #000000;\n",
              "        }#T_12db5d48_81d4_11ec_8495_0242ac1c0002row10_col5{\n",
              "            font-size:  6pt;\n",
              "            background-color:  #444444;\n",
              "            color:  #f1f1f1;\n",
              "        }#T_12db5d48_81d4_11ec_8495_0242ac1c0002row10_col8{\n",
              "            font-size:  6pt;\n",
              "            background-color:  #d5d5d5;\n",
              "            color:  #000000;\n",
              "        }#T_12db5d48_81d4_11ec_8495_0242ac1c0002row10_col11{\n",
              "            font-size:  6pt;\n",
              "            background-color:  #e9e9e9;\n",
              "            color:  #000000;\n",
              "        }#T_12db5d48_81d4_11ec_8495_0242ac1c0002row10_col12{\n",
              "            font-size:  6pt;\n",
              "            background-color:  #717171;\n",
              "            color:  #000000;\n",
              "        }#T_12db5d48_81d4_11ec_8495_0242ac1c0002row10_col15{\n",
              "            font-size:  6pt;\n",
              "            background-color:  #3d3d3d;\n",
              "            color:  #f1f1f1;\n",
              "        }#T_12db5d48_81d4_11ec_8495_0242ac1c0002row10_col16{\n",
              "            font-size:  6pt;\n",
              "            background-color:  #f1f1f1;\n",
              "            color:  #000000;\n",
              "        }</style><table id=\"T_12db5d48_81d4_11ec_8495_0242ac1c0002\" class=\"dataframe\"><thead>    <tr>        <th class=\"blank level0\" ></th>        <th class=\"col_heading level0 col0\" >0</th>        <th class=\"col_heading level0 col1\" >1</th>        <th class=\"col_heading level0 col2\" >2</th>        <th class=\"col_heading level0 col3\" >3</th>        <th class=\"col_heading level0 col4\" >4</th>        <th class=\"col_heading level0 col5\" >5</th>        <th class=\"col_heading level0 col6\" >6</th>        <th class=\"col_heading level0 col7\" >7</th>        <th class=\"col_heading level0 col8\" >8</th>        <th class=\"col_heading level0 col9\" >9</th>        <th class=\"col_heading level0 col10\" >10</th>        <th class=\"col_heading level0 col11\" >11</th>        <th class=\"col_heading level0 col12\" >12</th>        <th class=\"col_heading level0 col13\" >13</th>        <th class=\"col_heading level0 col14\" >14</th>        <th class=\"col_heading level0 col15\" >15</th>        <th class=\"col_heading level0 col16\" >16</th>        <th class=\"col_heading level0 col17\" >17</th>    </tr></thead><tbody>\n",
              "                <tr>\n",
              "                        <th id=\"T_12db5d48_81d4_11ec_8495_0242ac1c0002level0_row0\" class=\"row_heading level0 row0\" >0</th>\n",
              "                        <td id=\"T_12db5d48_81d4_11ec_8495_0242ac1c0002row0_col0\" class=\"data row0 col0\" >0</td>\n",
              "                        <td id=\"T_12db5d48_81d4_11ec_8495_0242ac1c0002row0_col1\" class=\"data row0 col1\" >0</td>\n",
              "                        <td id=\"T_12db5d48_81d4_11ec_8495_0242ac1c0002row0_col2\" class=\"data row0 col2\" >0</td>\n",
              "                        <td id=\"T_12db5d48_81d4_11ec_8495_0242ac1c0002row0_col3\" class=\"data row0 col3\" >0</td>\n",
              "                        <td id=\"T_12db5d48_81d4_11ec_8495_0242ac1c0002row0_col4\" class=\"data row0 col4\" >0</td>\n",
              "                        <td id=\"T_12db5d48_81d4_11ec_8495_0242ac1c0002row0_col5\" class=\"data row0 col5\" >0</td>\n",
              "                        <td id=\"T_12db5d48_81d4_11ec_8495_0242ac1c0002row0_col6\" class=\"data row0 col6\" >0</td>\n",
              "                        <td id=\"T_12db5d48_81d4_11ec_8495_0242ac1c0002row0_col7\" class=\"data row0 col7\" >0</td>\n",
              "                        <td id=\"T_12db5d48_81d4_11ec_8495_0242ac1c0002row0_col8\" class=\"data row0 col8\" >0</td>\n",
              "                        <td id=\"T_12db5d48_81d4_11ec_8495_0242ac1c0002row0_col9\" class=\"data row0 col9\" >0</td>\n",
              "                        <td id=\"T_12db5d48_81d4_11ec_8495_0242ac1c0002row0_col10\" class=\"data row0 col10\" >0</td>\n",
              "                        <td id=\"T_12db5d48_81d4_11ec_8495_0242ac1c0002row0_col11\" class=\"data row0 col11\" >0</td>\n",
              "                        <td id=\"T_12db5d48_81d4_11ec_8495_0242ac1c0002row0_col12\" class=\"data row0 col12\" >0</td>\n",
              "                        <td id=\"T_12db5d48_81d4_11ec_8495_0242ac1c0002row0_col13\" class=\"data row0 col13\" >0</td>\n",
              "                        <td id=\"T_12db5d48_81d4_11ec_8495_0242ac1c0002row0_col14\" class=\"data row0 col14\" >0</td>\n",
              "                        <td id=\"T_12db5d48_81d4_11ec_8495_0242ac1c0002row0_col15\" class=\"data row0 col15\" >0</td>\n",
              "                        <td id=\"T_12db5d48_81d4_11ec_8495_0242ac1c0002row0_col16\" class=\"data row0 col16\" >0</td>\n",
              "                        <td id=\"T_12db5d48_81d4_11ec_8495_0242ac1c0002row0_col17\" class=\"data row0 col17\" >0</td>\n",
              "            </tr>\n",
              "            <tr>\n",
              "                        <th id=\"T_12db5d48_81d4_11ec_8495_0242ac1c0002level0_row1\" class=\"row_heading level0 row1\" >1</th>\n",
              "                        <td id=\"T_12db5d48_81d4_11ec_8495_0242ac1c0002row1_col0\" class=\"data row1 col0\" >0</td>\n",
              "                        <td id=\"T_12db5d48_81d4_11ec_8495_0242ac1c0002row1_col1\" class=\"data row1 col1\" >58</td>\n",
              "                        <td id=\"T_12db5d48_81d4_11ec_8495_0242ac1c0002row1_col2\" class=\"data row1 col2\" >125</td>\n",
              "                        <td id=\"T_12db5d48_81d4_11ec_8495_0242ac1c0002row1_col3\" class=\"data row1 col3\" >245</td>\n",
              "                        <td id=\"T_12db5d48_81d4_11ec_8495_0242ac1c0002row1_col4\" class=\"data row1 col4\" >187</td>\n",
              "                        <td id=\"T_12db5d48_81d4_11ec_8495_0242ac1c0002row1_col5\" class=\"data row1 col5\" >254</td>\n",
              "                        <td id=\"T_12db5d48_81d4_11ec_8495_0242ac1c0002row1_col6\" class=\"data row1 col6\" >255</td>\n",
              "                        <td id=\"T_12db5d48_81d4_11ec_8495_0242ac1c0002row1_col7\" class=\"data row1 col7\" >214</td>\n",
              "                        <td id=\"T_12db5d48_81d4_11ec_8495_0242ac1c0002row1_col8\" class=\"data row1 col8\" >125</td>\n",
              "                        <td id=\"T_12db5d48_81d4_11ec_8495_0242ac1c0002row1_col9\" class=\"data row1 col9\" >225</td>\n",
              "                        <td id=\"T_12db5d48_81d4_11ec_8495_0242ac1c0002row1_col10\" class=\"data row1 col10\" >157</td>\n",
              "                        <td id=\"T_12db5d48_81d4_11ec_8495_0242ac1c0002row1_col11\" class=\"data row1 col11\" >35</td>\n",
              "                        <td id=\"T_12db5d48_81d4_11ec_8495_0242ac1c0002row1_col12\" class=\"data row1 col12\" >0</td>\n",
              "                        <td id=\"T_12db5d48_81d4_11ec_8495_0242ac1c0002row1_col13\" class=\"data row1 col13\" >0</td>\n",
              "                        <td id=\"T_12db5d48_81d4_11ec_8495_0242ac1c0002row1_col14\" class=\"data row1 col14\" >0</td>\n",
              "                        <td id=\"T_12db5d48_81d4_11ec_8495_0242ac1c0002row1_col15\" class=\"data row1 col15\" >0</td>\n",
              "                        <td id=\"T_12db5d48_81d4_11ec_8495_0242ac1c0002row1_col16\" class=\"data row1 col16\" >0</td>\n",
              "                        <td id=\"T_12db5d48_81d4_11ec_8495_0242ac1c0002row1_col17\" class=\"data row1 col17\" >0</td>\n",
              "            </tr>\n",
              "            <tr>\n",
              "                        <th id=\"T_12db5d48_81d4_11ec_8495_0242ac1c0002level0_row2\" class=\"row_heading level0 row2\" >2</th>\n",
              "                        <td id=\"T_12db5d48_81d4_11ec_8495_0242ac1c0002row2_col0\" class=\"data row2 col0\" >0</td>\n",
              "                        <td id=\"T_12db5d48_81d4_11ec_8495_0242ac1c0002row2_col1\" class=\"data row2 col1\" >118</td>\n",
              "                        <td id=\"T_12db5d48_81d4_11ec_8495_0242ac1c0002row2_col2\" class=\"data row2 col2\" >253</td>\n",
              "                        <td id=\"T_12db5d48_81d4_11ec_8495_0242ac1c0002row2_col3\" class=\"data row2 col3\" >253</td>\n",
              "                        <td id=\"T_12db5d48_81d4_11ec_8495_0242ac1c0002row2_col4\" class=\"data row2 col4\" >253</td>\n",
              "                        <td id=\"T_12db5d48_81d4_11ec_8495_0242ac1c0002row2_col5\" class=\"data row2 col5\" >253</td>\n",
              "                        <td id=\"T_12db5d48_81d4_11ec_8495_0242ac1c0002row2_col6\" class=\"data row2 col6\" >253</td>\n",
              "                        <td id=\"T_12db5d48_81d4_11ec_8495_0242ac1c0002row2_col7\" class=\"data row2 col7\" >253</td>\n",
              "                        <td id=\"T_12db5d48_81d4_11ec_8495_0242ac1c0002row2_col8\" class=\"data row2 col8\" >253</td>\n",
              "                        <td id=\"T_12db5d48_81d4_11ec_8495_0242ac1c0002row2_col9\" class=\"data row2 col9\" >253</td>\n",
              "                        <td id=\"T_12db5d48_81d4_11ec_8495_0242ac1c0002row2_col10\" class=\"data row2 col10\" >253</td>\n",
              "                        <td id=\"T_12db5d48_81d4_11ec_8495_0242ac1c0002row2_col11\" class=\"data row2 col11\" >249</td>\n",
              "                        <td id=\"T_12db5d48_81d4_11ec_8495_0242ac1c0002row2_col12\" class=\"data row2 col12\" >136</td>\n",
              "                        <td id=\"T_12db5d48_81d4_11ec_8495_0242ac1c0002row2_col13\" class=\"data row2 col13\" >0</td>\n",
              "                        <td id=\"T_12db5d48_81d4_11ec_8495_0242ac1c0002row2_col14\" class=\"data row2 col14\" >0</td>\n",
              "                        <td id=\"T_12db5d48_81d4_11ec_8495_0242ac1c0002row2_col15\" class=\"data row2 col15\" >0</td>\n",
              "                        <td id=\"T_12db5d48_81d4_11ec_8495_0242ac1c0002row2_col16\" class=\"data row2 col16\" >0</td>\n",
              "                        <td id=\"T_12db5d48_81d4_11ec_8495_0242ac1c0002row2_col17\" class=\"data row2 col17\" >0</td>\n",
              "            </tr>\n",
              "            <tr>\n",
              "                        <th id=\"T_12db5d48_81d4_11ec_8495_0242ac1c0002level0_row3\" class=\"row_heading level0 row3\" >3</th>\n",
              "                        <td id=\"T_12db5d48_81d4_11ec_8495_0242ac1c0002row3_col0\" class=\"data row3 col0\" >0</td>\n",
              "                        <td id=\"T_12db5d48_81d4_11ec_8495_0242ac1c0002row3_col1\" class=\"data row3 col1\" >242</td>\n",
              "                        <td id=\"T_12db5d48_81d4_11ec_8495_0242ac1c0002row3_col2\" class=\"data row3 col2\" >253</td>\n",
              "                        <td id=\"T_12db5d48_81d4_11ec_8495_0242ac1c0002row3_col3\" class=\"data row3 col3\" >253</td>\n",
              "                        <td id=\"T_12db5d48_81d4_11ec_8495_0242ac1c0002row3_col4\" class=\"data row3 col4\" >253</td>\n",
              "                        <td id=\"T_12db5d48_81d4_11ec_8495_0242ac1c0002row3_col5\" class=\"data row3 col5\" >253</td>\n",
              "                        <td id=\"T_12db5d48_81d4_11ec_8495_0242ac1c0002row3_col6\" class=\"data row3 col6\" >253</td>\n",
              "                        <td id=\"T_12db5d48_81d4_11ec_8495_0242ac1c0002row3_col7\" class=\"data row3 col7\" >253</td>\n",
              "                        <td id=\"T_12db5d48_81d4_11ec_8495_0242ac1c0002row3_col8\" class=\"data row3 col8\" >253</td>\n",
              "                        <td id=\"T_12db5d48_81d4_11ec_8495_0242ac1c0002row3_col9\" class=\"data row3 col9\" >253</td>\n",
              "                        <td id=\"T_12db5d48_81d4_11ec_8495_0242ac1c0002row3_col10\" class=\"data row3 col10\" >253</td>\n",
              "                        <td id=\"T_12db5d48_81d4_11ec_8495_0242ac1c0002row3_col11\" class=\"data row3 col11\" >253</td>\n",
              "                        <td id=\"T_12db5d48_81d4_11ec_8495_0242ac1c0002row3_col12\" class=\"data row3 col12\" >251</td>\n",
              "                        <td id=\"T_12db5d48_81d4_11ec_8495_0242ac1c0002row3_col13\" class=\"data row3 col13\" >137</td>\n",
              "                        <td id=\"T_12db5d48_81d4_11ec_8495_0242ac1c0002row3_col14\" class=\"data row3 col14\" >0</td>\n",
              "                        <td id=\"T_12db5d48_81d4_11ec_8495_0242ac1c0002row3_col15\" class=\"data row3 col15\" >0</td>\n",
              "                        <td id=\"T_12db5d48_81d4_11ec_8495_0242ac1c0002row3_col16\" class=\"data row3 col16\" >0</td>\n",
              "                        <td id=\"T_12db5d48_81d4_11ec_8495_0242ac1c0002row3_col17\" class=\"data row3 col17\" >0</td>\n",
              "            </tr>\n",
              "            <tr>\n",
              "                        <th id=\"T_12db5d48_81d4_11ec_8495_0242ac1c0002level0_row4\" class=\"row_heading level0 row4\" >4</th>\n",
              "                        <td id=\"T_12db5d48_81d4_11ec_8495_0242ac1c0002row4_col0\" class=\"data row4 col0\" >0</td>\n",
              "                        <td id=\"T_12db5d48_81d4_11ec_8495_0242ac1c0002row4_col1\" class=\"data row4 col1\" >194</td>\n",
              "                        <td id=\"T_12db5d48_81d4_11ec_8495_0242ac1c0002row4_col2\" class=\"data row4 col2\" >253</td>\n",
              "                        <td id=\"T_12db5d48_81d4_11ec_8495_0242ac1c0002row4_col3\" class=\"data row4 col3\" >253</td>\n",
              "                        <td id=\"T_12db5d48_81d4_11ec_8495_0242ac1c0002row4_col4\" class=\"data row4 col4\" >253</td>\n",
              "                        <td id=\"T_12db5d48_81d4_11ec_8495_0242ac1c0002row4_col5\" class=\"data row4 col5\" >253</td>\n",
              "                        <td id=\"T_12db5d48_81d4_11ec_8495_0242ac1c0002row4_col6\" class=\"data row4 col6\" >108</td>\n",
              "                        <td id=\"T_12db5d48_81d4_11ec_8495_0242ac1c0002row4_col7\" class=\"data row4 col7\" >19</td>\n",
              "                        <td id=\"T_12db5d48_81d4_11ec_8495_0242ac1c0002row4_col8\" class=\"data row4 col8\" >56</td>\n",
              "                        <td id=\"T_12db5d48_81d4_11ec_8495_0242ac1c0002row4_col9\" class=\"data row4 col9\" >48</td>\n",
              "                        <td id=\"T_12db5d48_81d4_11ec_8495_0242ac1c0002row4_col10\" class=\"data row4 col10\" >140</td>\n",
              "                        <td id=\"T_12db5d48_81d4_11ec_8495_0242ac1c0002row4_col11\" class=\"data row4 col11\" >253</td>\n",
              "                        <td id=\"T_12db5d48_81d4_11ec_8495_0242ac1c0002row4_col12\" class=\"data row4 col12\" >253</td>\n",
              "                        <td id=\"T_12db5d48_81d4_11ec_8495_0242ac1c0002row4_col13\" class=\"data row4 col13\" >250</td>\n",
              "                        <td id=\"T_12db5d48_81d4_11ec_8495_0242ac1c0002row4_col14\" class=\"data row4 col14\" >235</td>\n",
              "                        <td id=\"T_12db5d48_81d4_11ec_8495_0242ac1c0002row4_col15\" class=\"data row4 col15\" >235</td>\n",
              "                        <td id=\"T_12db5d48_81d4_11ec_8495_0242ac1c0002row4_col16\" class=\"data row4 col16\" >225</td>\n",
              "                        <td id=\"T_12db5d48_81d4_11ec_8495_0242ac1c0002row4_col17\" class=\"data row4 col17\" >46</td>\n",
              "            </tr>\n",
              "            <tr>\n",
              "                        <th id=\"T_12db5d48_81d4_11ec_8495_0242ac1c0002level0_row5\" class=\"row_heading level0 row5\" >5</th>\n",
              "                        <td id=\"T_12db5d48_81d4_11ec_8495_0242ac1c0002row5_col0\" class=\"data row5 col0\" >0</td>\n",
              "                        <td id=\"T_12db5d48_81d4_11ec_8495_0242ac1c0002row5_col1\" class=\"data row5 col1\" >73</td>\n",
              "                        <td id=\"T_12db5d48_81d4_11ec_8495_0242ac1c0002row5_col2\" class=\"data row5 col2\" >198</td>\n",
              "                        <td id=\"T_12db5d48_81d4_11ec_8495_0242ac1c0002row5_col3\" class=\"data row5 col3\" >253</td>\n",
              "                        <td id=\"T_12db5d48_81d4_11ec_8495_0242ac1c0002row5_col4\" class=\"data row5 col4\" >253</td>\n",
              "                        <td id=\"T_12db5d48_81d4_11ec_8495_0242ac1c0002row5_col5\" class=\"data row5 col5\" >253</td>\n",
              "                        <td id=\"T_12db5d48_81d4_11ec_8495_0242ac1c0002row5_col6\" class=\"data row5 col6\" >245</td>\n",
              "                        <td id=\"T_12db5d48_81d4_11ec_8495_0242ac1c0002row5_col7\" class=\"data row5 col7\" >188</td>\n",
              "                        <td id=\"T_12db5d48_81d4_11ec_8495_0242ac1c0002row5_col8\" class=\"data row5 col8\" >71</td>\n",
              "                        <td id=\"T_12db5d48_81d4_11ec_8495_0242ac1c0002row5_col9\" class=\"data row5 col9\" >76</td>\n",
              "                        <td id=\"T_12db5d48_81d4_11ec_8495_0242ac1c0002row5_col10\" class=\"data row5 col10\" >201</td>\n",
              "                        <td id=\"T_12db5d48_81d4_11ec_8495_0242ac1c0002row5_col11\" class=\"data row5 col11\" >253</td>\n",
              "                        <td id=\"T_12db5d48_81d4_11ec_8495_0242ac1c0002row5_col12\" class=\"data row5 col12\" >253</td>\n",
              "                        <td id=\"T_12db5d48_81d4_11ec_8495_0242ac1c0002row5_col13\" class=\"data row5 col13\" >253</td>\n",
              "                        <td id=\"T_12db5d48_81d4_11ec_8495_0242ac1c0002row5_col14\" class=\"data row5 col14\" >253</td>\n",
              "                        <td id=\"T_12db5d48_81d4_11ec_8495_0242ac1c0002row5_col15\" class=\"data row5 col15\" >253</td>\n",
              "                        <td id=\"T_12db5d48_81d4_11ec_8495_0242ac1c0002row5_col16\" class=\"data row5 col16\" >195</td>\n",
              "                        <td id=\"T_12db5d48_81d4_11ec_8495_0242ac1c0002row5_col17\" class=\"data row5 col17\" >68</td>\n",
              "            </tr>\n",
              "            <tr>\n",
              "                        <th id=\"T_12db5d48_81d4_11ec_8495_0242ac1c0002level0_row6\" class=\"row_heading level0 row6\" >6</th>\n",
              "                        <td id=\"T_12db5d48_81d4_11ec_8495_0242ac1c0002row6_col0\" class=\"data row6 col0\" >0</td>\n",
              "                        <td id=\"T_12db5d48_81d4_11ec_8495_0242ac1c0002row6_col1\" class=\"data row6 col1\" >0</td>\n",
              "                        <td id=\"T_12db5d48_81d4_11ec_8495_0242ac1c0002row6_col2\" class=\"data row6 col2\" >14</td>\n",
              "                        <td id=\"T_12db5d48_81d4_11ec_8495_0242ac1c0002row6_col3\" class=\"data row6 col3\" >152</td>\n",
              "                        <td id=\"T_12db5d48_81d4_11ec_8495_0242ac1c0002row6_col4\" class=\"data row6 col4\" >197</td>\n",
              "                        <td id=\"T_12db5d48_81d4_11ec_8495_0242ac1c0002row6_col5\" class=\"data row6 col5\" >253</td>\n",
              "                        <td id=\"T_12db5d48_81d4_11ec_8495_0242ac1c0002row6_col6\" class=\"data row6 col6\" >253</td>\n",
              "                        <td id=\"T_12db5d48_81d4_11ec_8495_0242ac1c0002row6_col7\" class=\"data row6 col7\" >253</td>\n",
              "                        <td id=\"T_12db5d48_81d4_11ec_8495_0242ac1c0002row6_col8\" class=\"data row6 col8\" >244</td>\n",
              "                        <td id=\"T_12db5d48_81d4_11ec_8495_0242ac1c0002row6_col9\" class=\"data row6 col9\" >246</td>\n",
              "                        <td id=\"T_12db5d48_81d4_11ec_8495_0242ac1c0002row6_col10\" class=\"data row6 col10\" >253</td>\n",
              "                        <td id=\"T_12db5d48_81d4_11ec_8495_0242ac1c0002row6_col11\" class=\"data row6 col11\" >253</td>\n",
              "                        <td id=\"T_12db5d48_81d4_11ec_8495_0242ac1c0002row6_col12\" class=\"data row6 col12\" >253</td>\n",
              "                        <td id=\"T_12db5d48_81d4_11ec_8495_0242ac1c0002row6_col13\" class=\"data row6 col13\" >239</td>\n",
              "                        <td id=\"T_12db5d48_81d4_11ec_8495_0242ac1c0002row6_col14\" class=\"data row6 col14\" >162</td>\n",
              "                        <td id=\"T_12db5d48_81d4_11ec_8495_0242ac1c0002row6_col15\" class=\"data row6 col15\" >82</td>\n",
              "                        <td id=\"T_12db5d48_81d4_11ec_8495_0242ac1c0002row6_col16\" class=\"data row6 col16\" >13</td>\n",
              "                        <td id=\"T_12db5d48_81d4_11ec_8495_0242ac1c0002row6_col17\" class=\"data row6 col17\" >0</td>\n",
              "            </tr>\n",
              "            <tr>\n",
              "                        <th id=\"T_12db5d48_81d4_11ec_8495_0242ac1c0002level0_row7\" class=\"row_heading level0 row7\" >7</th>\n",
              "                        <td id=\"T_12db5d48_81d4_11ec_8495_0242ac1c0002row7_col0\" class=\"data row7 col0\" >0</td>\n",
              "                        <td id=\"T_12db5d48_81d4_11ec_8495_0242ac1c0002row7_col1\" class=\"data row7 col1\" >0</td>\n",
              "                        <td id=\"T_12db5d48_81d4_11ec_8495_0242ac1c0002row7_col2\" class=\"data row7 col2\" >0</td>\n",
              "                        <td id=\"T_12db5d48_81d4_11ec_8495_0242ac1c0002row7_col3\" class=\"data row7 col3\" >0</td>\n",
              "                        <td id=\"T_12db5d48_81d4_11ec_8495_0242ac1c0002row7_col4\" class=\"data row7 col4\" >15</td>\n",
              "                        <td id=\"T_12db5d48_81d4_11ec_8495_0242ac1c0002row7_col5\" class=\"data row7 col5\" >152</td>\n",
              "                        <td id=\"T_12db5d48_81d4_11ec_8495_0242ac1c0002row7_col6\" class=\"data row7 col6\" >240</td>\n",
              "                        <td id=\"T_12db5d48_81d4_11ec_8495_0242ac1c0002row7_col7\" class=\"data row7 col7\" >253</td>\n",
              "                        <td id=\"T_12db5d48_81d4_11ec_8495_0242ac1c0002row7_col8\" class=\"data row7 col8\" >253</td>\n",
              "                        <td id=\"T_12db5d48_81d4_11ec_8495_0242ac1c0002row7_col9\" class=\"data row7 col9\" >253</td>\n",
              "                        <td id=\"T_12db5d48_81d4_11ec_8495_0242ac1c0002row7_col10\" class=\"data row7 col10\" >253</td>\n",
              "                        <td id=\"T_12db5d48_81d4_11ec_8495_0242ac1c0002row7_col11\" class=\"data row7 col11\" >253</td>\n",
              "                        <td id=\"T_12db5d48_81d4_11ec_8495_0242ac1c0002row7_col12\" class=\"data row7 col12\" >253</td>\n",
              "                        <td id=\"T_12db5d48_81d4_11ec_8495_0242ac1c0002row7_col13\" class=\"data row7 col13\" >170</td>\n",
              "                        <td id=\"T_12db5d48_81d4_11ec_8495_0242ac1c0002row7_col14\" class=\"data row7 col14\" >0</td>\n",
              "                        <td id=\"T_12db5d48_81d4_11ec_8495_0242ac1c0002row7_col15\" class=\"data row7 col15\" >0</td>\n",
              "                        <td id=\"T_12db5d48_81d4_11ec_8495_0242ac1c0002row7_col16\" class=\"data row7 col16\" >0</td>\n",
              "                        <td id=\"T_12db5d48_81d4_11ec_8495_0242ac1c0002row7_col17\" class=\"data row7 col17\" >0</td>\n",
              "            </tr>\n",
              "            <tr>\n",
              "                        <th id=\"T_12db5d48_81d4_11ec_8495_0242ac1c0002level0_row8\" class=\"row_heading level0 row8\" >8</th>\n",
              "                        <td id=\"T_12db5d48_81d4_11ec_8495_0242ac1c0002row8_col0\" class=\"data row8 col0\" >0</td>\n",
              "                        <td id=\"T_12db5d48_81d4_11ec_8495_0242ac1c0002row8_col1\" class=\"data row8 col1\" >0</td>\n",
              "                        <td id=\"T_12db5d48_81d4_11ec_8495_0242ac1c0002row8_col2\" class=\"data row8 col2\" >0</td>\n",
              "                        <td id=\"T_12db5d48_81d4_11ec_8495_0242ac1c0002row8_col3\" class=\"data row8 col3\" >0</td>\n",
              "                        <td id=\"T_12db5d48_81d4_11ec_8495_0242ac1c0002row8_col4\" class=\"data row8 col4\" >0</td>\n",
              "                        <td id=\"T_12db5d48_81d4_11ec_8495_0242ac1c0002row8_col5\" class=\"data row8 col5\" >0</td>\n",
              "                        <td id=\"T_12db5d48_81d4_11ec_8495_0242ac1c0002row8_col6\" class=\"data row8 col6\" >215</td>\n",
              "                        <td id=\"T_12db5d48_81d4_11ec_8495_0242ac1c0002row8_col7\" class=\"data row8 col7\" >253</td>\n",
              "                        <td id=\"T_12db5d48_81d4_11ec_8495_0242ac1c0002row8_col8\" class=\"data row8 col8\" >253</td>\n",
              "                        <td id=\"T_12db5d48_81d4_11ec_8495_0242ac1c0002row8_col9\" class=\"data row8 col9\" >253</td>\n",
              "                        <td id=\"T_12db5d48_81d4_11ec_8495_0242ac1c0002row8_col10\" class=\"data row8 col10\" >253</td>\n",
              "                        <td id=\"T_12db5d48_81d4_11ec_8495_0242ac1c0002row8_col11\" class=\"data row8 col11\" >253</td>\n",
              "                        <td id=\"T_12db5d48_81d4_11ec_8495_0242ac1c0002row8_col12\" class=\"data row8 col12\" >253</td>\n",
              "                        <td id=\"T_12db5d48_81d4_11ec_8495_0242ac1c0002row8_col13\" class=\"data row8 col13\" >191</td>\n",
              "                        <td id=\"T_12db5d48_81d4_11ec_8495_0242ac1c0002row8_col14\" class=\"data row8 col14\" >0</td>\n",
              "                        <td id=\"T_12db5d48_81d4_11ec_8495_0242ac1c0002row8_col15\" class=\"data row8 col15\" >0</td>\n",
              "                        <td id=\"T_12db5d48_81d4_11ec_8495_0242ac1c0002row8_col16\" class=\"data row8 col16\" >0</td>\n",
              "                        <td id=\"T_12db5d48_81d4_11ec_8495_0242ac1c0002row8_col17\" class=\"data row8 col17\" >0</td>\n",
              "            </tr>\n",
              "            <tr>\n",
              "                        <th id=\"T_12db5d48_81d4_11ec_8495_0242ac1c0002level0_row9\" class=\"row_heading level0 row9\" >9</th>\n",
              "                        <td id=\"T_12db5d48_81d4_11ec_8495_0242ac1c0002row9_col0\" class=\"data row9 col0\" >0</td>\n",
              "                        <td id=\"T_12db5d48_81d4_11ec_8495_0242ac1c0002row9_col1\" class=\"data row9 col1\" >0</td>\n",
              "                        <td id=\"T_12db5d48_81d4_11ec_8495_0242ac1c0002row9_col2\" class=\"data row9 col2\" >0</td>\n",
              "                        <td id=\"T_12db5d48_81d4_11ec_8495_0242ac1c0002row9_col3\" class=\"data row9 col3\" >0</td>\n",
              "                        <td id=\"T_12db5d48_81d4_11ec_8495_0242ac1c0002row9_col4\" class=\"data row9 col4\" >0</td>\n",
              "                        <td id=\"T_12db5d48_81d4_11ec_8495_0242ac1c0002row9_col5\" class=\"data row9 col5\" >26</td>\n",
              "                        <td id=\"T_12db5d48_81d4_11ec_8495_0242ac1c0002row9_col6\" class=\"data row9 col6\" >226</td>\n",
              "                        <td id=\"T_12db5d48_81d4_11ec_8495_0242ac1c0002row9_col7\" class=\"data row9 col7\" >253</td>\n",
              "                        <td id=\"T_12db5d48_81d4_11ec_8495_0242ac1c0002row9_col8\" class=\"data row9 col8\" >233</td>\n",
              "                        <td id=\"T_12db5d48_81d4_11ec_8495_0242ac1c0002row9_col9\" class=\"data row9 col9\" >81</td>\n",
              "                        <td id=\"T_12db5d48_81d4_11ec_8495_0242ac1c0002row9_col10\" class=\"data row9 col10\" >148</td>\n",
              "                        <td id=\"T_12db5d48_81d4_11ec_8495_0242ac1c0002row9_col11\" class=\"data row9 col11\" >233</td>\n",
              "                        <td id=\"T_12db5d48_81d4_11ec_8495_0242ac1c0002row9_col12\" class=\"data row9 col12\" >253</td>\n",
              "                        <td id=\"T_12db5d48_81d4_11ec_8495_0242ac1c0002row9_col13\" class=\"data row9 col13\" >245</td>\n",
              "                        <td id=\"T_12db5d48_81d4_11ec_8495_0242ac1c0002row9_col14\" class=\"data row9 col14\" >185</td>\n",
              "                        <td id=\"T_12db5d48_81d4_11ec_8495_0242ac1c0002row9_col15\" class=\"data row9 col15\" >28</td>\n",
              "                        <td id=\"T_12db5d48_81d4_11ec_8495_0242ac1c0002row9_col16\" class=\"data row9 col16\" >0</td>\n",
              "                        <td id=\"T_12db5d48_81d4_11ec_8495_0242ac1c0002row9_col17\" class=\"data row9 col17\" >0</td>\n",
              "            </tr>\n",
              "            <tr>\n",
              "                        <th id=\"T_12db5d48_81d4_11ec_8495_0242ac1c0002level0_row10\" class=\"row_heading level0 row10\" >10</th>\n",
              "                        <td id=\"T_12db5d48_81d4_11ec_8495_0242ac1c0002row10_col0\" class=\"data row10 col0\" >0</td>\n",
              "                        <td id=\"T_12db5d48_81d4_11ec_8495_0242ac1c0002row10_col1\" class=\"data row10 col1\" >0</td>\n",
              "                        <td id=\"T_12db5d48_81d4_11ec_8495_0242ac1c0002row10_col2\" class=\"data row10 col2\" >0</td>\n",
              "                        <td id=\"T_12db5d48_81d4_11ec_8495_0242ac1c0002row10_col3\" class=\"data row10 col3\" >0</td>\n",
              "                        <td id=\"T_12db5d48_81d4_11ec_8495_0242ac1c0002row10_col4\" class=\"data row10 col4\" >26</td>\n",
              "                        <td id=\"T_12db5d48_81d4_11ec_8495_0242ac1c0002row10_col5\" class=\"data row10 col5\" >200</td>\n",
              "                        <td id=\"T_12db5d48_81d4_11ec_8495_0242ac1c0002row10_col6\" class=\"data row10 col6\" >253</td>\n",
              "                        <td id=\"T_12db5d48_81d4_11ec_8495_0242ac1c0002row10_col7\" class=\"data row10 col7\" >233</td>\n",
              "                        <td id=\"T_12db5d48_81d4_11ec_8495_0242ac1c0002row10_col8\" class=\"data row10 col8\" >68</td>\n",
              "                        <td id=\"T_12db5d48_81d4_11ec_8495_0242ac1c0002row10_col9\" class=\"data row10 col9\" >0</td>\n",
              "                        <td id=\"T_12db5d48_81d4_11ec_8495_0242ac1c0002row10_col10\" class=\"data row10 col10\" >0</td>\n",
              "                        <td id=\"T_12db5d48_81d4_11ec_8495_0242ac1c0002row10_col11\" class=\"data row10 col11\" >42</td>\n",
              "                        <td id=\"T_12db5d48_81d4_11ec_8495_0242ac1c0002row10_col12\" class=\"data row10 col12\" >160</td>\n",
              "                        <td id=\"T_12db5d48_81d4_11ec_8495_0242ac1c0002row10_col13\" class=\"data row10 col13\" >253</td>\n",
              "                        <td id=\"T_12db5d48_81d4_11ec_8495_0242ac1c0002row10_col14\" class=\"data row10 col14\" >253</td>\n",
              "                        <td id=\"T_12db5d48_81d4_11ec_8495_0242ac1c0002row10_col15\" class=\"data row10 col15\" >204</td>\n",
              "                        <td id=\"T_12db5d48_81d4_11ec_8495_0242ac1c0002row10_col16\" class=\"data row10 col16\" >27</td>\n",
              "                        <td id=\"T_12db5d48_81d4_11ec_8495_0242ac1c0002row10_col17\" class=\"data row10 col17\" >0</td>\n",
              "            </tr>\n",
              "    </tbody></table>"
            ],
            "text/plain": [
              "<pandas.io.formats.style.Styler at 0x7f5bd4713290>"
            ]
          },
          "metadata": {},
          "execution_count": 15
        }
      ]
    },
    {
      "cell_type": "markdown",
      "source": [
        "Creating a tensor of stacked numbers "
      ],
      "metadata": {
        "id": "sQcvArQjSKd3"
      }
    },
    {
      "cell_type": "code",
      "source": [
        "eight_tensors = [tensor(Image.open(o)) for o in eights]\n",
        "three_tensors = [tensor(Image.open(o)) for o in threes]\n",
        "one_tensors = [tensor(Image.open(o)) for o in ones]\n",
        "seven_tensors = [tensor(Image.open(o)) for o in sevens]\n",
        "len(three_tensors),len(one_tensors),len(eight_tensors),len(seven_tensors)"
      ],
      "metadata": {
        "colab": {
          "base_uri": "https://localhost:8080/"
        },
        "id": "biQDnyxASSQW",
        "outputId": "f2a12088-a495-43d9-f6a8-492aa1497b10"
      },
      "execution_count": 16,
      "outputs": [
        {
          "output_type": "execute_result",
          "data": {
            "text/plain": [
              "(6131, 6742, 5851, 6265)"
            ]
          },
          "metadata": {},
          "execution_count": 16
        }
      ]
    },
    {
      "cell_type": "code",
      "source": [
        "show_image(eight_tensors[6])"
      ],
      "metadata": {
        "colab": {
          "base_uri": "https://localhost:8080/",
          "height": 103
        },
        "id": "o83olletTPw_",
        "outputId": "20ccbf06-e982-4806-a84f-8ffdab4182c9"
      },
      "execution_count": 17,
      "outputs": [
        {
          "output_type": "execute_result",
          "data": {
            "text/plain": [
              "<matplotlib.axes._subplots.AxesSubplot at 0x7f5bd2f28790>"
            ]
          },
          "metadata": {},
          "execution_count": 17
        },
        {
          "output_type": "display_data",
          "data": {
            "image/png": "[encoded data removed]",
            "text/plain": [
              "<Figure size 72x72 with 1 Axes>"
            ]
          },
          "metadata": {
            "needs_background": "light"
          }
        }
      ]
    },
    {
      "cell_type": "markdown",
      "source": [
        "Stacking the images and displaying the shape"
      ],
      "metadata": {
        "id": "akybMxxCTwDD"
      }
    },
    {
      "cell_type": "code",
      "source": [
        "stacked_sevens = torch.stack(seven_tensors).float()/255\n",
        "stacked_threes = torch.stack(three_tensors).float()/255\n",
        "stacked_ones = torch.stack(one_tensors).float()/255\n",
        "stacked_eights = torch.stack(eight_tensors).float()/255\n",
        "stacked_eights.shape"
      ],
      "metadata": {
        "colab": {
          "base_uri": "https://localhost:8080/"
        },
        "id": "z5MzUmAoTz-R",
        "outputId": "db26a557-09c3-4364-8eca-94b47b6d01ac"
      },
      "execution_count": 18,
      "outputs": [
        {
          "output_type": "execute_result",
          "data": {
            "text/plain": [
              "torch.Size([5851, 28, 28])"
            ]
          },
          "metadata": {},
          "execution_count": 18
        }
      ]
    },
    {
      "cell_type": "code",
      "source": [
        "len(stacked_eights.shape)"
      ],
      "metadata": {
        "colab": {
          "base_uri": "https://localhost:8080/"
        },
        "id": "xNQjXz3FUarw",
        "outputId": "63ab5716-a8f2-4c56-805d-c70c109a00dc"
      },
      "execution_count": 19,
      "outputs": [
        {
          "output_type": "execute_result",
          "data": {
            "text/plain": [
              "3"
            ]
          },
          "metadata": {},
          "execution_count": 19
        }
      ]
    },
    {
      "cell_type": "code",
      "source": [
        "stacked_threes.ndim"
      ],
      "metadata": {
        "colab": {
          "base_uri": "https://localhost:8080/"
        },
        "id": "JF36Mhu8U2_F",
        "outputId": "bb803848-3073-4784-fb58-34143e42d4eb"
      },
      "execution_count": 20,
      "outputs": [
        {
          "output_type": "execute_result",
          "data": {
            "text/plain": [
              "3"
            ]
          },
          "metadata": {},
          "execution_count": 20
        }
      ]
    },
    {
      "cell_type": "markdown",
      "source": [
        "Calculating the mean of all images and displaying what an ideal 8 looks like"
      ],
      "metadata": {
        "id": "yYMDppPHU-Bk"
      }
    },
    {
      "cell_type": "code",
      "source": [
        "mean8 = stacked_eights.mean(0)\n",
        "show_image(mean8);\n",
        "\n",
        "mean7 = stacked_sevens.mean(0)\n",
        "show_image(mean7);\n",
        "\n",
        "mean1 = stacked_ones.mean(0)\n",
        "show_image(mean1);\n",
        "\n",
        "mean3 = stacked_threes.mean(0)\n",
        "show_image(mean3);"
      ],
      "metadata": {
        "colab": {
          "base_uri": "https://localhost:8080/",
          "height": 289
        },
        "id": "v2aZjoPMVFQ_",
        "outputId": "873ce84f-a248-45c9-b03c-4477ba05f727"
      },
      "execution_count": 25,
      "outputs": [
        {
          "output_type": "display_data",
          "data": {
            "image/png": "[encoded data removed]",
            "text/plain": [
              "<Figure size 72x72 with 1 Axes>"
            ]
          },
          "metadata": {
            "needs_background": "light"
          }
        },
        {
          "output_type": "display_data",
          "data": {
            "image/png": "[encoded data removed]",
            "text/plain": [
              "<Figure size 72x72 with 1 Axes>"
            ]
          },
          "metadata": {
            "needs_background": "light"
          }
        },
        {
          "output_type": "display_data",
          "data": {
            "image/png": "[encoded data removed]",
            "text/plain": [
              "<Figure size 72x72 with 1 Axes>"
            ]
          },
          "metadata": {
            "needs_background": "light"
          }
        },
        {
          "output_type": "display_data",
          "data": {
            "image/png": "[encoded data removed]",
            "text/plain": [
              "<Figure size 72x72 with 1 Axes>"
            ]
          },
          "metadata": {
            "needs_background": "light"
          }
        }
      ]
    },
    {
      "cell_type": "markdown",
      "source": [
        "Measuring distance of ideal digits\n"
      ],
      "metadata": {
        "id": "f00tFP0DWzOt"
      }
    },
    {
      "cell_type": "code",
      "source": [
        "a_8 = stacked_eights[1]\n",
        "show_image(a_8);"
      ],
      "metadata": {
        "colab": {
          "base_uri": "https://localhost:8080/",
          "height": 85
        },
        "id": "45vWBpNJW3vQ",
        "outputId": "f73a998d-f340-4e01-f0cb-e9292c152506"
      },
      "execution_count": 23,
      "outputs": [
        {
          "output_type": "display_data",
          "data": {
            "image/png": "[encoded data removed]",
            "text/plain": [
              "<Figure size 72x72 with 1 Axes>"
            ]
          },
          "metadata": {
            "needs_background": "light"
          }
        }
      ]
    },
    {
      "cell_type": "markdown",
      "source": [
        "using L1 norm and L2 norm"
      ],
      "metadata": {
        "id": "zoXOfi4JXs5g"
      }
    },
    {
      "cell_type": "code",
      "source": [
        "dist_8_abs = (a_8 - mean8).abs().mean()\n",
        "dist_8_sqr = ((a_8 - mean8)**2).mean().sqrt()\n",
        "dist_8_abs,dist_8_sqr\n"
      ],
      "metadata": {
        "colab": {
          "base_uri": "https://localhost:8080/"
        },
        "id": "-ZhE9EFVXvwX",
        "outputId": "88adb8ae-518c-4265-86f6-2f4a36bcd185"
      },
      "execution_count": 29,
      "outputs": [
        {
          "output_type": "execute_result",
          "data": {
            "text/plain": [
              "(tensor(0.1959), tensor(0.3387))"
            ]
          },
          "metadata": {},
          "execution_count": 29
        }
      ]
    },
    {
      "cell_type": "code",
      "source": [
        "dist_7_abs = (a_8 - mean7).abs().mean()\n",
        "dist_7_sqr = ((a_8 - mean7)**2).mean().sqrt()\n",
        "dist_7_abs,dist_7_sqr"
      ],
      "metadata": {
        "colab": {
          "base_uri": "https://localhost:8080/"
        },
        "id": "g_tZdYmkYsc_",
        "outputId": "a197faf8-14c4-464a-c04d-1c50c4ec04c8"
      },
      "execution_count": 28,
      "outputs": [
        {
          "output_type": "execute_result",
          "data": {
            "text/plain": [
              "(tensor(0.1984), tensor(0.3574))"
            ]
          },
          "metadata": {},
          "execution_count": 28
        }
      ]
    },
    {
      "cell_type": "markdown",
      "source": [
        "the Loss function"
      ],
      "metadata": {
        "id": "jEpiRZ8FY6fD"
      }
    },
    {
      "cell_type": "code",
      "source": [
        "F.l1_loss(a_8.float(),mean7), F.mse_loss(a_8,mean7).sqrt()"
      ],
      "metadata": {
        "colab": {
          "base_uri": "https://localhost:8080/"
        },
        "id": "k_eLqjiyY9Sw",
        "outputId": "63e17a69-21ff-483b-fd59-a4c9bfefd9c8"
      },
      "execution_count": 30,
      "outputs": [
        {
          "output_type": "execute_result",
          "data": {
            "text/plain": [
              "(tensor(0.1984), tensor(0.3574))"
            ]
          },
          "metadata": {},
          "execution_count": 30
        }
      ]
    },
    {
      "cell_type": "markdown",
      "source": [
        "Separating the validation set"
      ],
      "metadata": {
        "id": "T8SGU5FydvYm"
      }
    },
    {
      "cell_type": "code",
      "source": [
        "valid_3_tens = torch.stack([tensor(Image.open(o)) \n",
        "                            for o in (path/'valid/3').ls()])\n",
        "valid_3_tens = valid_3_tens.float()/255"
      ],
      "metadata": {
        "colab": {
          "base_uri": "https://localhost:8080/",
          "height": 358
        },
        "id": "R82nuYfxeCVS",
        "outputId": "59195e09-feaa-4f05-f390-3959d4320871"
      },
      "execution_count": 32,
      "outputs": [
        {
          "output_type": "error",
          "ename": "FileNotFoundError",
          "evalue": "ignored",
          "traceback": [
            "\u001b[0;31m---------------------------------------------------------------------------\u001b[0m",
            "\u001b[0;31mFileNotFoundError\u001b[0m                         Traceback (most recent call last)",
            "\u001b[0;32m<ipython-input-32-698398eaf958>\u001b[0m in \u001b[0;36m<module>\u001b[0;34m()\u001b[0m\n\u001b[1;32m      1\u001b[0m valid_3_tens = torch.stack([tensor(Image.open(o)) \n\u001b[0;32m----> 2\u001b[0;31m                             for o in (path/'valid/3').ls()])\n\u001b[0m\u001b[1;32m      3\u001b[0m \u001b[0mvalid_3_tens\u001b[0m \u001b[0;34m=\u001b[0m \u001b[0mvalid_3_tens\u001b[0m\u001b[0;34m.\u001b[0m\u001b[0mfloat\u001b[0m\u001b[0;34m(\u001b[0m\u001b[0;34m)\u001b[0m\u001b[0;34m/\u001b[0m\u001b[0;36m255\u001b[0m\u001b[0;34m\u001b[0m\u001b[0;34m\u001b[0m\u001b[0m\n",
            "\u001b[0;32m/usr/local/lib/python3.7/dist-packages/fastcore/xtras.py\u001b[0m in \u001b[0;36mls\u001b[0;34m(self, n_max, file_type, file_exts)\u001b[0m\n\u001b[1;32m    318\u001b[0m     \u001b[0mres\u001b[0m \u001b[0;34m=\u001b[0m \u001b[0;34m(\u001b[0m\u001b[0mo\u001b[0m \u001b[0;32mfor\u001b[0m \u001b[0mo\u001b[0m \u001b[0;32min\u001b[0m \u001b[0mself\u001b[0m\u001b[0;34m.\u001b[0m\u001b[0miterdir\u001b[0m\u001b[0;34m(\u001b[0m\u001b[0;34m)\u001b[0m \u001b[0;32mif\u001b[0m \u001b[0mhas_extns\u001b[0m \u001b[0;32mor\u001b[0m \u001b[0mo\u001b[0m\u001b[0;34m.\u001b[0m\u001b[0msuffix\u001b[0m \u001b[0;32min\u001b[0m \u001b[0mextns\u001b[0m\u001b[0;34m)\u001b[0m\u001b[0;34m\u001b[0m\u001b[0;34m\u001b[0m\u001b[0m\n\u001b[1;32m    319\u001b[0m     \u001b[0;32mif\u001b[0m \u001b[0mn_max\u001b[0m \u001b[0;32mis\u001b[0m \u001b[0;32mnot\u001b[0m \u001b[0;32mNone\u001b[0m\u001b[0;34m:\u001b[0m \u001b[0mres\u001b[0m \u001b[0;34m=\u001b[0m \u001b[0mitertools\u001b[0m\u001b[0;34m.\u001b[0m\u001b[0mislice\u001b[0m\u001b[0;34m(\u001b[0m\u001b[0mres\u001b[0m\u001b[0;34m,\u001b[0m \u001b[0mn_max\u001b[0m\u001b[0;34m)\u001b[0m\u001b[0;34m\u001b[0m\u001b[0;34m\u001b[0m\u001b[0m\n\u001b[0;32m--> 320\u001b[0;31m     \u001b[0;32mreturn\u001b[0m \u001b[0mL\u001b[0m\u001b[0;34m(\u001b[0m\u001b[0mres\u001b[0m\u001b[0;34m)\u001b[0m\u001b[0;34m\u001b[0m\u001b[0;34m\u001b[0m\u001b[0m\n\u001b[0m\u001b[1;32m    321\u001b[0m \u001b[0;34m\u001b[0m\u001b[0m\n\u001b[1;32m    322\u001b[0m \u001b[0;31m# Cell\u001b[0m\u001b[0;34m\u001b[0m\u001b[0;34m\u001b[0m\u001b[0;34m\u001b[0m\u001b[0m\n",
            "\u001b[0;32m/usr/local/lib/python3.7/dist-packages/fastcore/foundation.py\u001b[0m in \u001b[0;36m__call__\u001b[0;34m(cls, x, *args, **kwargs)\u001b[0m\n\u001b[1;32m     95\u001b[0m     \u001b[0;32mdef\u001b[0m \u001b[0m__call__\u001b[0m\u001b[0;34m(\u001b[0m\u001b[0mcls\u001b[0m\u001b[0;34m,\u001b[0m \u001b[0mx\u001b[0m\u001b[0;34m=\u001b[0m\u001b[0;32mNone\u001b[0m\u001b[0;34m,\u001b[0m \u001b[0;34m*\u001b[0m\u001b[0margs\u001b[0m\u001b[0;34m,\u001b[0m \u001b[0;34m**\u001b[0m\u001b[0mkwargs\u001b[0m\u001b[0;34m)\u001b[0m\u001b[0;34m:\u001b[0m\u001b[0;34m\u001b[0m\u001b[0;34m\u001b[0m\u001b[0m\n\u001b[1;32m     96\u001b[0m         \u001b[0;32mif\u001b[0m \u001b[0;32mnot\u001b[0m \u001b[0margs\u001b[0m \u001b[0;32mand\u001b[0m \u001b[0;32mnot\u001b[0m \u001b[0mkwargs\u001b[0m \u001b[0;32mand\u001b[0m \u001b[0mx\u001b[0m \u001b[0;32mis\u001b[0m \u001b[0;32mnot\u001b[0m \u001b[0;32mNone\u001b[0m \u001b[0;32mand\u001b[0m \u001b[0misinstance\u001b[0m\u001b[0;34m(\u001b[0m\u001b[0mx\u001b[0m\u001b[0;34m,\u001b[0m\u001b[0mcls\u001b[0m\u001b[0;34m)\u001b[0m\u001b[0;34m:\u001b[0m \u001b[0;32mreturn\u001b[0m \u001b[0mx\u001b[0m\u001b[0;34m\u001b[0m\u001b[0;34m\u001b[0m\u001b[0m\n\u001b[0;32m---> 97\u001b[0;31m         \u001b[0;32mreturn\u001b[0m \u001b[0msuper\u001b[0m\u001b[0;34m(\u001b[0m\u001b[0;34m)\u001b[0m\u001b[0;34m.\u001b[0m\u001b[0m__call__\u001b[0m\u001b[0;34m(\u001b[0m\u001b[0mx\u001b[0m\u001b[0;34m,\u001b[0m \u001b[0;34m*\u001b[0m\u001b[0margs\u001b[0m\u001b[0;34m,\u001b[0m \u001b[0;34m**\u001b[0m\u001b[0mkwargs\u001b[0m\u001b[0;34m)\u001b[0m\u001b[0;34m\u001b[0m\u001b[0;34m\u001b[0m\u001b[0m\n\u001b[0m\u001b[1;32m     98\u001b[0m \u001b[0;34m\u001b[0m\u001b[0m\n\u001b[1;32m     99\u001b[0m \u001b[0;31m# Cell\u001b[0m\u001b[0;34m\u001b[0m\u001b[0;34m\u001b[0m\u001b[0;34m\u001b[0m\u001b[0m\n",
            "\u001b[0;32m/usr/local/lib/python3.7/dist-packages/fastcore/foundation.py\u001b[0m in \u001b[0;36m__init__\u001b[0;34m(self, items, use_list, match, *rest)\u001b[0m\n\u001b[1;32m    103\u001b[0m     \u001b[0;32mdef\u001b[0m \u001b[0m__init__\u001b[0m\u001b[0;34m(\u001b[0m\u001b[0mself\u001b[0m\u001b[0;34m,\u001b[0m \u001b[0mitems\u001b[0m\u001b[0;34m=\u001b[0m\u001b[0;32mNone\u001b[0m\u001b[0;34m,\u001b[0m \u001b[0;34m*\u001b[0m\u001b[0mrest\u001b[0m\u001b[0;34m,\u001b[0m \u001b[0muse_list\u001b[0m\u001b[0;34m=\u001b[0m\u001b[0;32mFalse\u001b[0m\u001b[0;34m,\u001b[0m \u001b[0mmatch\u001b[0m\u001b[0;34m=\u001b[0m\u001b[0;32mNone\u001b[0m\u001b[0;34m)\u001b[0m\u001b[0;34m:\u001b[0m\u001b[0;34m\u001b[0m\u001b[0;34m\u001b[0m\u001b[0m\n\u001b[1;32m    104\u001b[0m         \u001b[0;32mif\u001b[0m \u001b[0;34m(\u001b[0m\u001b[0muse_list\u001b[0m \u001b[0;32mis\u001b[0m \u001b[0;32mnot\u001b[0m \u001b[0;32mNone\u001b[0m\u001b[0;34m)\u001b[0m \u001b[0;32mor\u001b[0m \u001b[0;32mnot\u001b[0m \u001b[0mis_array\u001b[0m\u001b[0;34m(\u001b[0m\u001b[0mitems\u001b[0m\u001b[0;34m)\u001b[0m\u001b[0;34m:\u001b[0m\u001b[0;34m\u001b[0m\u001b[0;34m\u001b[0m\u001b[0m\n\u001b[0;32m--> 105\u001b[0;31m             \u001b[0mitems\u001b[0m \u001b[0;34m=\u001b[0m \u001b[0mlistify\u001b[0m\u001b[0;34m(\u001b[0m\u001b[0mitems\u001b[0m\u001b[0;34m,\u001b[0m \u001b[0;34m*\u001b[0m\u001b[0mrest\u001b[0m\u001b[0;34m,\u001b[0m \u001b[0muse_list\u001b[0m\u001b[0;34m=\u001b[0m\u001b[0muse_list\u001b[0m\u001b[0;34m,\u001b[0m \u001b[0mmatch\u001b[0m\u001b[0;34m=\u001b[0m\u001b[0mmatch\u001b[0m\u001b[0;34m)\u001b[0m\u001b[0;34m\u001b[0m\u001b[0;34m\u001b[0m\u001b[0m\n\u001b[0m\u001b[1;32m    106\u001b[0m         \u001b[0msuper\u001b[0m\u001b[0;34m(\u001b[0m\u001b[0;34m)\u001b[0m\u001b[0;34m.\u001b[0m\u001b[0m__init__\u001b[0m\u001b[0;34m(\u001b[0m\u001b[0mitems\u001b[0m\u001b[0;34m)\u001b[0m\u001b[0;34m\u001b[0m\u001b[0;34m\u001b[0m\u001b[0m\n\u001b[1;32m    107\u001b[0m \u001b[0;34m\u001b[0m\u001b[0m\n",
            "\u001b[0;32m/usr/local/lib/python3.7/dist-packages/fastcore/basics.py\u001b[0m in \u001b[0;36mlistify\u001b[0;34m(o, use_list, match, *rest)\u001b[0m\n\u001b[1;32m     55\u001b[0m     \u001b[0;32melif\u001b[0m \u001b[0misinstance\u001b[0m\u001b[0;34m(\u001b[0m\u001b[0mo\u001b[0m\u001b[0;34m,\u001b[0m \u001b[0mlist\u001b[0m\u001b[0;34m)\u001b[0m\u001b[0;34m:\u001b[0m \u001b[0mres\u001b[0m \u001b[0;34m=\u001b[0m \u001b[0mo\u001b[0m\u001b[0;34m\u001b[0m\u001b[0;34m\u001b[0m\u001b[0m\n\u001b[1;32m     56\u001b[0m     \u001b[0;32melif\u001b[0m \u001b[0misinstance\u001b[0m\u001b[0;34m(\u001b[0m\u001b[0mo\u001b[0m\u001b[0;34m,\u001b[0m \u001b[0mstr\u001b[0m\u001b[0;34m)\u001b[0m \u001b[0;32mor\u001b[0m \u001b[0mis_array\u001b[0m\u001b[0;34m(\u001b[0m\u001b[0mo\u001b[0m\u001b[0;34m)\u001b[0m\u001b[0;34m:\u001b[0m \u001b[0mres\u001b[0m \u001b[0;34m=\u001b[0m \u001b[0;34m[\u001b[0m\u001b[0mo\u001b[0m\u001b[0;34m]\u001b[0m\u001b[0;34m\u001b[0m\u001b[0;34m\u001b[0m\u001b[0m\n\u001b[0;32m---> 57\u001b[0;31m     \u001b[0;32melif\u001b[0m \u001b[0mis_iter\u001b[0m\u001b[0;34m(\u001b[0m\u001b[0mo\u001b[0m\u001b[0;34m)\u001b[0m\u001b[0;34m:\u001b[0m \u001b[0mres\u001b[0m \u001b[0;34m=\u001b[0m \u001b[0mlist\u001b[0m\u001b[0;34m(\u001b[0m\u001b[0mo\u001b[0m\u001b[0;34m)\u001b[0m\u001b[0;34m\u001b[0m\u001b[0;34m\u001b[0m\u001b[0m\n\u001b[0m\u001b[1;32m     58\u001b[0m     \u001b[0;32melse\u001b[0m\u001b[0;34m:\u001b[0m \u001b[0mres\u001b[0m \u001b[0;34m=\u001b[0m \u001b[0;34m[\u001b[0m\u001b[0mo\u001b[0m\u001b[0;34m]\u001b[0m\u001b[0;34m\u001b[0m\u001b[0;34m\u001b[0m\u001b[0m\n\u001b[1;32m     59\u001b[0m     \u001b[0;32mif\u001b[0m \u001b[0mmatch\u001b[0m \u001b[0;32mis\u001b[0m \u001b[0;32mnot\u001b[0m \u001b[0;32mNone\u001b[0m\u001b[0;34m:\u001b[0m\u001b[0;34m\u001b[0m\u001b[0;34m\u001b[0m\u001b[0m\n",
            "\u001b[0;32m/usr/local/lib/python3.7/dist-packages/fastcore/xtras.py\u001b[0m in \u001b[0;36m<genexpr>\u001b[0;34m(.0)\u001b[0m\n\u001b[1;32m    316\u001b[0m     \u001b[0;32mif\u001b[0m \u001b[0mfile_type\u001b[0m\u001b[0;34m:\u001b[0m \u001b[0mextns\u001b[0m \u001b[0;34m+=\u001b[0m \u001b[0mL\u001b[0m\u001b[0;34m(\u001b[0m\u001b[0mk\u001b[0m \u001b[0;32mfor\u001b[0m \u001b[0mk\u001b[0m\u001b[0;34m,\u001b[0m\u001b[0mv\u001b[0m \u001b[0;32min\u001b[0m \u001b[0mmimetypes\u001b[0m\u001b[0;34m.\u001b[0m\u001b[0mtypes_map\u001b[0m\u001b[0;34m.\u001b[0m\u001b[0mitems\u001b[0m\u001b[0;34m(\u001b[0m\u001b[0;34m)\u001b[0m \u001b[0;32mif\u001b[0m \u001b[0mv\u001b[0m\u001b[0;34m.\u001b[0m\u001b[0mstartswith\u001b[0m\u001b[0;34m(\u001b[0m\u001b[0mfile_type\u001b[0m\u001b[0;34m+\u001b[0m\u001b[0;34m'/'\u001b[0m\u001b[0;34m)\u001b[0m\u001b[0;34m)\u001b[0m\u001b[0;34m\u001b[0m\u001b[0;34m\u001b[0m\u001b[0m\n\u001b[1;32m    317\u001b[0m     \u001b[0mhas_extns\u001b[0m \u001b[0;34m=\u001b[0m \u001b[0mlen\u001b[0m\u001b[0;34m(\u001b[0m\u001b[0mextns\u001b[0m\u001b[0;34m)\u001b[0m\u001b[0;34m==\u001b[0m\u001b[0;36m0\u001b[0m\u001b[0;34m\u001b[0m\u001b[0;34m\u001b[0m\u001b[0m\n\u001b[0;32m--> 318\u001b[0;31m     \u001b[0mres\u001b[0m \u001b[0;34m=\u001b[0m \u001b[0;34m(\u001b[0m\u001b[0mo\u001b[0m \u001b[0;32mfor\u001b[0m \u001b[0mo\u001b[0m \u001b[0;32min\u001b[0m \u001b[0mself\u001b[0m\u001b[0;34m.\u001b[0m\u001b[0miterdir\u001b[0m\u001b[0;34m(\u001b[0m\u001b[0;34m)\u001b[0m \u001b[0;32mif\u001b[0m \u001b[0mhas_extns\u001b[0m \u001b[0;32mor\u001b[0m \u001b[0mo\u001b[0m\u001b[0;34m.\u001b[0m\u001b[0msuffix\u001b[0m \u001b[0;32min\u001b[0m \u001b[0mextns\u001b[0m\u001b[0;34m)\u001b[0m\u001b[0;34m\u001b[0m\u001b[0;34m\u001b[0m\u001b[0m\n\u001b[0m\u001b[1;32m    319\u001b[0m     \u001b[0;32mif\u001b[0m \u001b[0mn_max\u001b[0m \u001b[0;32mis\u001b[0m \u001b[0;32mnot\u001b[0m \u001b[0;32mNone\u001b[0m\u001b[0;34m:\u001b[0m \u001b[0mres\u001b[0m \u001b[0;34m=\u001b[0m \u001b[0mitertools\u001b[0m\u001b[0;34m.\u001b[0m\u001b[0mislice\u001b[0m\u001b[0;34m(\u001b[0m\u001b[0mres\u001b[0m\u001b[0;34m,\u001b[0m \u001b[0mn_max\u001b[0m\u001b[0;34m)\u001b[0m\u001b[0;34m\u001b[0m\u001b[0;34m\u001b[0m\u001b[0m\n\u001b[1;32m    320\u001b[0m     \u001b[0;32mreturn\u001b[0m \u001b[0mL\u001b[0m\u001b[0;34m(\u001b[0m\u001b[0mres\u001b[0m\u001b[0;34m)\u001b[0m\u001b[0;34m\u001b[0m\u001b[0;34m\u001b[0m\u001b[0m\n",
            "\u001b[0;32m/usr/lib/python3.7/pathlib.py\u001b[0m in \u001b[0;36miterdir\u001b[0;34m(self)\u001b[0m\n\u001b[1;32m   1105\u001b[0m         \u001b[0;32mif\u001b[0m \u001b[0mself\u001b[0m\u001b[0;34m.\u001b[0m\u001b[0m_closed\u001b[0m\u001b[0;34m:\u001b[0m\u001b[0;34m\u001b[0m\u001b[0;34m\u001b[0m\u001b[0m\n\u001b[1;32m   1106\u001b[0m             \u001b[0mself\u001b[0m\u001b[0;34m.\u001b[0m\u001b[0m_raise_closed\u001b[0m\u001b[0;34m(\u001b[0m\u001b[0;34m)\u001b[0m\u001b[0;34m\u001b[0m\u001b[0;34m\u001b[0m\u001b[0m\n\u001b[0;32m-> 1107\u001b[0;31m         \u001b[0;32mfor\u001b[0m \u001b[0mname\u001b[0m \u001b[0;32min\u001b[0m \u001b[0mself\u001b[0m\u001b[0;34m.\u001b[0m\u001b[0m_accessor\u001b[0m\u001b[0;34m.\u001b[0m\u001b[0mlistdir\u001b[0m\u001b[0;34m(\u001b[0m\u001b[0mself\u001b[0m\u001b[0;34m)\u001b[0m\u001b[0;34m:\u001b[0m\u001b[0;34m\u001b[0m\u001b[0;34m\u001b[0m\u001b[0m\n\u001b[0m\u001b[1;32m   1108\u001b[0m             \u001b[0;32mif\u001b[0m \u001b[0mname\u001b[0m \u001b[0;32min\u001b[0m \u001b[0;34m{\u001b[0m\u001b[0;34m'.'\u001b[0m\u001b[0;34m,\u001b[0m \u001b[0;34m'..'\u001b[0m\u001b[0;34m}\u001b[0m\u001b[0;34m:\u001b[0m\u001b[0;34m\u001b[0m\u001b[0;34m\u001b[0m\u001b[0m\n\u001b[1;32m   1109\u001b[0m                 \u001b[0;31m# Yielding a path object for these makes little sense\u001b[0m\u001b[0;34m\u001b[0m\u001b[0;34m\u001b[0m\u001b[0;34m\u001b[0m\u001b[0m\n",
            "\u001b[0;31mFileNotFoundError\u001b[0m: [Errno 2] No such file or directory: '/root/.fastai/data/mnist_png/valid/3'"
          ]
        }
      ]
    }
  ]
}